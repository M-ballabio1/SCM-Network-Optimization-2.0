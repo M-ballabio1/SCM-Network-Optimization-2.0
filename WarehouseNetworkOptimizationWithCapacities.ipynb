{
 "cells": [
  {
   "cell_type": "code",
   "execution_count": null,
   "id": "d0ec79b3",
   "metadata": {},
   "outputs": [],
   "source": [
    "from netopt import netopt, print_dict, plot_map, set_capacity, set_all_capacities\n",
    "from scenario_5 import warehouses, customers, distance\n"
   ]
  },
  {
   "cell_type": "code",
   "execution_count": null,
   "id": "03b7fdb6",
   "metadata": {},
   "outputs": [],
   "source": [
    "plot_map(warehouses=warehouses,\n",
    "         customers=customers,\n",
    "         warehouse_markersize=5,\n",
    "         warehouse_marker='s',\n",
    "         warehouse_markercolor='red',\n",
    "         customer_markersize=6,\n",
    "         customer_marker='x',\n",
    "         customer_markercolor='blue')"
   ]
  },
  {
   "cell_type": "code",
   "execution_count": null,
   "id": "ac6a1c69",
   "metadata": {},
   "outputs": [],
   "source": [
    "# Solve a mindistance problem\n",
    "results = netopt(num_warehouses=5,\n",
    "                 warehouses=warehouses,\n",
    "                 customers=customers,\n",
    "                 distance=distance,\n",
    "                 objective='mindistance',\n",
    "                 distance_ranges=[0, 800, 1200],\n",
    "                 plot=True,\n",
    "                 warehouse_markersize=5,\n",
    "                 warehouse_active_markersize=8,\n",
    "                hide_inactive=True)\n",
    "print_dict(results)"
   ]
  },
  {
   "cell_type": "code",
   "execution_count": null,
   "id": "11e53592",
   "metadata": {},
   "outputs": [],
   "source": []
  },
  {
   "cell_type": "code",
   "execution_count": null,
   "id": "43713c3f",
   "metadata": {},
   "outputs": [],
   "source": [
    "# We would like to spread the quantity more evenly\n",
    "# Let's limit the capacity of the five warehouses to 1/5 of the total demand\n",
    "\n",
    "set_all_capacities(warehouses, 20_000_000)"
   ]
  },
  {
   "cell_type": "code",
   "execution_count": null,
   "id": "37990659",
   "metadata": {},
   "outputs": [],
   "source": [
    "# Solve again a mindistance problem with capacities, enforcing the single sourcing constraint\n",
    "results = netopt(num_warehouses=5,\n",
    "                 warehouses=warehouses,\n",
    "                 customers=customers,\n",
    "                 distance=distance,\n",
    "                 objective='mindistance',\n",
    "                 distance_ranges=[0, 800, 1200],\n",
    "                 plot=True,\n",
    "                 warehouse_markersize=5,\n",
    "                 warehouse_active_markersize=8)\n",
    "print_dict(results)"
   ]
  },
  {
   "cell_type": "code",
   "execution_count": null,
   "id": "bdba3112",
   "metadata": {},
   "outputs": [],
   "source": [
    "# Increase the warehouse maximum capacity to 30.000.000 and solve again\n",
    "set_all_capacities(warehouses, 30_000_000)\n",
    "\n",
    "results = netopt(num_warehouses=5,\n",
    "                 warehouses=warehouses,\n",
    "                 customers=customers,\n",
    "                 distance=distance,\n",
    "                 objective='mindistance',\n",
    "                 distance_ranges=[0, 800, 1200],\n",
    "                 plot=True,\n",
    "                 warehouse_markersize=5,\n",
    "                 warehouse_active_markersize=8,\n",
    "                 hide_inactive=True)\n",
    "print_dict(results)\n"
   ]
  },
  {
   "cell_type": "code",
   "execution_count": null,
   "id": "4fb3f110",
   "metadata": {},
   "outputs": [],
   "source": [
    "# Set the warehouse maximum capacity to 20.000.000 and allow for multiple warehouses serving a single customer\n",
    "# with the parameter force_single_sourcing set to False\n",
    "set_all_capacities(warehouses, 20_000_000)\n",
    "\n",
    "results = netopt(num_warehouses=5,\n",
    "                 warehouses=warehouses,\n",
    "                 customers=customers,\n",
    "                 distance=distance,\n",
    "                 objective='mindistance',\n",
    "                 distance_ranges=[0, 800, 1200],\n",
    "                 force_single_sourcing=False,\n",
    "                 plot=True,\n",
    "                 hide_inactive=True,\n",
    "                 warehouse_markersize=5,\n",
    "                 warehouse_active_markersize=8)\n",
    "print_dict(results)"
   ]
  },
  {
   "cell_type": "code",
   "execution_count": 2,
   "id": "106735ad",
   "metadata": {},
   "outputs": [
    {
     "ename": "NameError",
     "evalue": "name 'whs' is not defined",
     "output_type": "error",
     "traceback": [
      "\u001b[1;31m---------------------------------------------------------------------------\u001b[0m",
      "\u001b[1;31mNameError\u001b[0m                                 Traceback (most recent call last)",
      "Input \u001b[1;32mIn [2]\u001b[0m, in \u001b[0;36m<module>\u001b[1;34m\u001b[0m\n\u001b[1;32m----> 1\u001b[0m \u001b[43mwhs\u001b[49m\n",
      "\u001b[1;31mNameError\u001b[0m: name 'whs' is not defined"
     ]
    }
   ],
   "source": [
    "\n",
    "whs"
   ]
  },
  {
   "cell_type": "code",
   "execution_count": null,
   "id": "be0765b2",
   "metadata": {},
   "outputs": [],
   "source": []
  }
 ],
 "metadata": {
  "kernelspec": {
   "display_name": "Python 3 (ipykernel)",
   "language": "python",
   "name": "python3"
  },
  "language_info": {
   "codemirror_mode": {
    "name": "ipython",
    "version": 3
   },
   "file_extension": ".py",
   "mimetype": "text/x-python",
   "name": "python",
   "nbconvert_exporter": "python",
   "pygments_lexer": "ipython3",
   "version": "3.8.10"
  }
 },
 "nbformat": 4,
 "nbformat_minor": 5
}
