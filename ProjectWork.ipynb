{
 "cells": [
  {
   "cell_type": "code",
   "execution_count": 1,
   "id": "b7153845",
   "metadata": {},
   "outputs": [],
   "source": [
    "%load_ext autoreload\n",
    "%autoreload 2"
   ]
  },
  {
   "cell_type": "code",
   "execution_count": 26,
   "id": "ad2d97e9",
   "metadata": {},
   "outputs": [],
   "source": [
    "# Import functions and data\n",
    "from netopt import netopt, print_dict, plot_map\n",
    "from data_structures import import_data, show_data, set_capacity, set_all_capacities, set_fixed_cost, scale_demand, scale_all_demands, set_demand, set_all_demands, calculate_dm\n",
    "from projectwork_data import warehouses, customers_as_is, customers_to_be\n"
   ]
  },
  {
   "cell_type": "code",
   "execution_count": 15,
   "id": "af9ea73d",
   "metadata": {},
   "outputs": [
    {
     "data": {
      "image/png": "[encoded data removed]",
      "text/plain": [
       "<Figure size 1088x680 with 1 Axes>"
      ]
     },
     "metadata": {
      "needs_background": "light"
     },
     "output_type": "display_data"
    }
   ],
   "source": [
    "\n",
    "plot_map(warehouses=warehouses,\n",
    "         customers=customers_as_is,\n",
    "         warehouse_markersize=5,\n",
    "         warehouse_marker='s',\n",
    "         warehouse_markercolor='red',\n",
    "         customer_markersize=3,\n",
    "         customer_marker='x',\n",
    "         customer_markercolor='blue')\n",
    "\n",
    "dist = calculate_dm(warehouses=warehouses,\n",
    "                    customers=customers_to_be)"
   ]
  },
  {
   "cell_type": "code",
   "execution_count": 13,
   "id": "65326fd6",
   "metadata": {},
   "outputs": [],
   "source": [
    "?netopt"
   ]
  },
  {
   "cell_type": "code",
   "execution_count": 33,
   "id": "4cf44f3d",
   "metadata": {},
   "outputs": [
    {
     "name": "stdout",
     "output_type": "stream",
     "text": [
      "|    |   Id | Identifier         | City               | State   | Zipcode   |   Latitude |   Longitude |   Demand |\n",
      "|---:|-----:|:-------------------|:-------------------|:--------|:----------|-----------:|------------:|---------:|\n",
      "|  0 |    0 | Milan              | Milan              |         |           |    45.4669 |      9.19   |        0 |\n",
      "|  1 |    1 | Turin              | Turin              |         |           |    45.0667 |      7.7    |        0 |\n",
      "|  2 |    2 | Genoa              | Genoa              |         |           |    44.4072 |      8.934  |        0 |\n",
      "|  3 |    3 | Bologna            | Bologna            |         |           |    44.4939 |     11.3428 |        0 |\n",
      "|  4 |    4 | Venice             | Venice             |         |           |    45.4397 |     12.3319 |        0 |\n",
      "|  5 |    5 | Verona             | Verona             |         |           |    45.4386 |     10.9928 |        0 |\n",
      "|  6 |    6 | Padova             | Padova             |         |           |    45.4064 |     11.8778 |        0 |\n",
      "|  7 |    7 | Trieste            | Trieste            |         |           |    45.6503 |     13.7703 |        0 |\n",
      "|  8 |    8 | Brescia            | Brescia            |         |           |    45.5389 |     10.2203 |        0 |\n",
      "|  9 |    9 | Parma              | Parma              |         |           |    44.8015 |     10.328  |        0 |\n",
      "| 10 |   10 | Modena             | Modena             |         |           |    44.6458 |     10.9257 |        0 |\n",
      "| 11 |   11 | Reggio Emilia      | Reggio Emilia      |         |           |    44.7    |     10.6333 |        0 |\n",
      "| 12 |   12 | Ravenna            | Ravenna            |         |           |    44.4178 |     12.1994 |        0 |\n",
      "| 13 |   13 | Ferrara            | Ferrara            |         |           |    44.8353 |     11.6199 |        0 |\n",
      "| 14 |   14 | Monza              | Monza              |         |           |    45.5836 |      9.2736 |        0 |\n",
      "| 15 |   15 | Bergamo            | Bergamo            |         |           |    45.695  |      9.67   |        0 |\n",
      "| 16 |   16 | Trento             | Trento             |         |           |    46.0667 |     11.1167 |        0 |\n",
      "| 17 |   17 | Vicenza            | Vicenza            |         |           |    45.55   |     11.55   |        0 |\n",
      "| 18 |   18 | Bolzano            | Bolzano            |         |           |    46.5    |     11.35   |        0 |\n",
      "| 19 |   19 | Novara             | Novara             |         |           |    45.45   |      8.6167 |        0 |\n",
      "| 20 |   20 | Piacenza           | Piacenza           |         |           |    45.05   |      9.7    |        0 |\n",
      "| 21 |   21 | Udine              | Udine              |         |           |    46.0667 |     13.2333 |        0 |\n",
      "| 22 |   22 | Alessandria        | Alessandria        |         |           |    44.9133 |      8.62   |        0 |\n",
      "| 23 |   23 | Mestre             | Mestre             |         |           |    45.4906 |     12.2381 |        0 |\n",
      "| 24 |   24 | Treviso            | Treviso            |         |           |    45.6722 |     12.2422 |        0 |\n",
      "| 25 |   25 | Busto Arsizio      | Busto Arsizio      |         |           |    45.612  |      8.8518 |        0 |\n",
      "| 26 |   26 | Como               | Como               |         |           |    45.8103 |      9.0861 |        0 |\n",
      "| 27 |   27 | Sesto San Giovanni | Sesto San Giovanni |         |           |    45.5333 |      9.2333 |        0 |\n",
      "| 28 |   28 | Varese             | Varese             |         |           |    45.8167 |      8.8333 |        0 |\n",
      "| 29 |   29 | Asti               | Asti               |         |           |    44.9    |      8.2069 |        0 |\n",
      "| 30 |   30 | Cinisello Balsamo  | Cinisello Balsamo  |         |           |    45.55   |      9.2167 |        0 |\n"
     ]
    }
   ],
   "source": [
    "show_data(customers_as_is)"
   ]
  },
  {
   "cell_type": "code",
   "execution_count": 28,
   "id": "378b620a",
   "metadata": {},
   "outputs": [],
   "source": [
    "scale_demand(customers_as_is, 0, .5)"
   ]
  },
  {
   "cell_type": "code",
   "execution_count": 30,
   "id": "69d3a778",
   "metadata": {},
   "outputs": [],
   "source": [
    "set_demand(customers_as_is, 0, 2000)"
   ]
  },
  {
   "cell_type": "code",
   "execution_count": 32,
   "id": "65d3db46",
   "metadata": {},
   "outputs": [],
   "source": [
    "set_all_demands(customers_as_is, 0)"
   ]
  },
  {
   "cell_type": "code",
   "execution_count": null,
   "id": "00ab7b53",
   "metadata": {},
   "outputs": [],
   "source": []
  }
 ],
 "metadata": {
  "kernelspec": {
   "display_name": "Python 3 (ipykernel)",
   "language": "python",
   "name": "python3"
  },
  "language_info": {
   "codemirror_mode": {
    "name": "ipython",
    "version": 3
   },
   "file_extension": ".py",
   "mimetype": "text/x-python",
   "name": "python",
   "nbconvert_exporter": "python",
   "pygments_lexer": "ipython3",
   "version": "3.8.10"
  }
 },
 "nbformat": 4,
 "nbformat_minor": 5
}
