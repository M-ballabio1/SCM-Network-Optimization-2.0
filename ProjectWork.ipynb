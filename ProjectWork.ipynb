{
 "cells": [
  {
   "cell_type": "code",
   "execution_count": 1,
   "id": "4587ec42",
   "metadata": {},
   "outputs": [],
   "source": [
    "%load_ext autoreload\n",
    "%autoreload 2"
   ]
  },
  {
   "cell_type": "code",
   "execution_count": 11,
   "id": "9b5c00c4",
   "metadata": {},
   "outputs": [],
   "source": [
    "# Import functions and data\n",
    "from netopt import netopt, print_dict, plot_map\n",
    "from data_structures import (show_data, set_capacity, set_all_capacities, set_fixed_cost,\n",
    "                             set_all_fixed_costs, scale_demand, scale_all_demands, set_demand,\n",
    "                             set_all_demands, calculate_dm)\n",
    "from projectwork_data import warehouses, customers_as_is, customers_to_be\n"
   ]
  },
  {
   "cell_type": "code",
   "execution_count": 10,
   "id": "a6090fe6",
   "metadata": {},
   "outputs": [
    {
     "data": {
      "image/png": "[encoded data removed]",
      "text/plain": [
       "<Figure size 1088x680 with 1 Axes>"
      ]
     },
     "metadata": {
      "needs_background": "light"
     },
     "output_type": "display_data"
    }
   ],
   "source": [
    "# Plot the data in the as-is scenario\n",
    "# The variable customers_as_is contains the existing customers, while the variable customers_to_be contains both\n",
    "# existing and prospective customers\n",
    "# The variable warehouses contains all the candidate locations, including the existing one (Bologna, id 6)\n",
    "\n",
    "plot_map(warehouses=warehouses,\n",
    "         customers=customers_as_is,\n",
    "         warehouse_markersize=5,\n",
    "         warehouse_marker='s',\n",
    "         warehouse_markercolor='red',\n",
    "         customer_markersize=3,\n",
    "         customer_marker='x',\n",
    "         customer_markercolor='blue')\n"
   ]
  },
  {
   "cell_type": "code",
   "execution_count": 8,
   "id": "037524b8",
   "metadata": {},
   "outputs": [
    {
     "name": "stdout",
     "output_type": "stream",
     "text": [
      "|    |   Id | Identifier         | City               |   Latitude |   Longitude |   Demand |\n",
      "|---:|-----:|:-------------------|:-------------------|-----------:|------------:|---------:|\n",
      "|  0 |    0 | Milan              | Milan              |    45.4669 |      9.19   |     1366 |\n",
      "|  1 |    1 | Turin              | Turin              |    45.0667 |      7.7    |      871 |\n",
      "|  2 |    2 | Genoa              | Genoa              |    44.4072 |      8.934  |      580 |\n",
      "|  3 |    3 | Bologna            | Bologna            |    44.4939 |     11.3428 |      389 |\n",
      "|  4 |    4 | Venice             | Venice             |    45.4397 |     12.3319 |      261 |\n",
      "|  5 |    5 | Verona             | Verona             |    45.4386 |     10.9928 |      257 |\n",
      "|  6 |    6 | Padova             | Padova             |    45.4064 |     11.8778 |      210 |\n",
      "|  7 |    7 | Trieste            | Trieste            |    45.6503 |     13.7703 |      204 |\n",
      "|  8 |    8 | Brescia            | Brescia            |    45.5389 |     10.2203 |      197 |\n",
      "|  9 |    9 | Parma              | Parma              |    44.8015 |     10.328  |      196 |\n",
      "| 10 |   10 | Modena             | Modena             |    44.6458 |     10.9257 |      185 |\n",
      "| 11 |   11 | Reggio Emilia      | Reggio Emilia      |    44.7    |     10.6333 |      172 |\n",
      "| 12 |   12 | Ravenna            | Ravenna            |    44.4178 |     12.1994 |      159 |\n",
      "| 13 |   13 | Ferrara            | Ferrara            |    44.8353 |     11.6199 |      132 |\n",
      "| 14 |   14 | Monza              | Monza              |    45.5836 |      9.2736 |      124 |\n",
      "| 15 |   15 | Bergamo            | Bergamo            |    45.695  |      9.67   |      121 |\n",
      "| 16 |   16 | Trento             | Trento             |    46.0667 |     11.1167 |      118 |\n",
      "| 17 |   17 | Vicenza            | Vicenza            |    45.55   |     11.55   |      112 |\n",
      "| 18 |   18 | Bolzano            | Bolzano            |    46.5    |     11.35   |      107 |\n",
      "| 19 |   19 | Novara             | Novara             |    45.45   |      8.6167 |      104 |\n",
      "| 20 |   20 | Piacenza           | Piacenza           |    45.05   |      9.7    |      103 |\n",
      "| 21 |   21 | Udine              | Udine              |    46.0667 |     13.2333 |      100 |\n",
      "| 22 |   22 | Alessandria        | Alessandria        |    44.9133 |      8.62   |       94 |\n",
      "| 23 |   23 | Mestre             | Mestre             |    45.4906 |     12.2381 |       89 |\n",
      "| 24 |   24 | Treviso            | Treviso            |    45.6722 |     12.2422 |       85 |\n",
      "| 25 |   25 | Busto Arsizio      | Busto Arsizio      |    45.612  |      8.8518 |       83 |\n",
      "| 26 |   26 | Como               | Como               |    45.8103 |      9.0861 |       83 |\n",
      "| 27 |   27 | Sesto San Giovanni | Sesto San Giovanni |    45.5333 |      9.2333 |       82 |\n",
      "| 28 |   28 | Varese             | Varese             |    45.8167 |      8.8333 |       81 |\n",
      "| 29 |   29 | Asti               | Asti               |    44.9    |      8.2069 |       76 |\n",
      "| 30 |   30 | Cinisello Balsamo  | Cinisello Balsamo  |    45.55   |      9.2167 |       76 |\n"
     ]
    }
   ],
   "source": [
    "# Show the customers data in tabular form. Use the data in the column Id to refer to single customers or warehouses\n",
    "show_data(customers_as_is)\n"
   ]
  },
  {
   "cell_type": "code",
   "execution_count": 9,
   "id": "5bb6610c",
   "metadata": {},
   "outputs": [
    {
     "name": "stdout",
     "output_type": "stream",
     "text": [
      "|    |   Id | Identifier         | City               |   Latitude |   Longitude |   Capacity |   Fixed cost |\n",
      "|---:|-----:|:-------------------|:-------------------|-----------:|------------:|-----------:|-------------:|\n",
      "|  0 |    0 | Rome               | Rome               |    41.8931 |     12.4828 |      12000 |        10000 |\n",
      "|  1 |    1 | Milan              | Milan              |    45.4669 |      9.19   |      12000 |        10000 |\n",
      "|  2 |    2 | Naples             | Naples             |    40.8333 |     14.25   |      12000 |        10000 |\n",
      "|  3 |    3 | Turin              | Turin              |    45.0667 |      7.7    |      11000 |        10000 |\n",
      "|  4 |    4 | Palermo            | Palermo            |    38.1157 |     13.3613 |      10000 |        10000 |\n",
      "|  5 |    5 | Genoa              | Genoa              |    44.4072 |      8.934  |       6000 |         6000 |\n",
      "|  6 |    6 | Bologna            | Bologna            |    44.4939 |     11.3428 |       7000 |         6000 |\n",
      "|  7 |    7 | Florence           | Florence           |    43.7714 |     11.2542 |       7000 |         6000 |\n",
      "|  8 |    8 | Bari               | Bari               |    41.1253 |     16.8667 |       5000 |         6000 |\n",
      "|  9 |    9 | Catania            | Catania            |    37.5027 |     15.0873 |       4000 |         3000 |\n",
      "| 10 |   10 | Venice             | Venice             |    45.4397 |     12.3319 |       4000 |         3000 |\n",
      "| 11 |   11 | Verona             | Verona             |    45.4386 |     10.9928 |       4000 |         3000 |\n",
      "| 12 |   12 | Ancona             | Ancona             |    43.6167 |     13.5167 |       4000 |         3000 |\n",
      "| 13 |   13 | Andria             | Andria             |    41.2317 |     16.3083 |       2000 |         3000 |\n",
      "| 14 |   14 | Reggio di Calabria | Reggio di Calabria |    38.1144 |     15.65   |       2000 |         3000 |\n"
     ]
    }
   ],
   "source": [
    "# You can show warehouses data as well\n",
    "show_data(warehouses)\n"
   ]
  },
  {
   "cell_type": "code",
   "execution_count": null,
   "id": "8691b4eb",
   "metadata": {},
   "outputs": [],
   "source": [
    "# Calculate the distance matrixes. The distance matrixes are necessary for the model\n",
    "dist_as_is = calculate_dm(warehouses=warehouses,\n",
    "                          customers=customers_as_is)\n",
    "\n",
    "dist_to_be = calculate_dm(warehouses=warehouses,\n",
    "                          customers=customers_to_be)"
   ]
  },
  {
   "cell_type": "code",
   "execution_count": 12,
   "id": "e560ae7a",
   "metadata": {},
   "outputs": [],
   "source": [
    "# The functions available are the following:\n",
    "# netopt() - Solve the optimization model\n",
    "# set_capacity() - change the capacity of a warehouse\n",
    "# set_all_capacities() - change the capacity of all warehouses\n",
    "# set_fixed_cost() - change the yearly fixed cost of a warehouse\n",
    "# set_all_fixed_costs() - change the yearly fixed cost of all warehouses\n",
    "# scale_demand() - scale the demand of a customer by a factor\n",
    "# scale_all_demands() - scale the demand of all customer by a factor\n",
    "# set_demand() - change the demand of a customer\n",
    "# set_all_demands() - change the demand of all cus\n",
    "\n",
    "# type the function name without parentheses and preceeded by ? to access a short description of the function and the parameters\n",
    "# Example:\n",
    "?netopt"
   ]
  }
 ],
 "metadata": {
  "kernelspec": {
   "display_name": "Python 3 (ipykernel)",
   "language": "python",
   "name": "python3"
  },
  "language_info": {
   "codemirror_mode": {
    "name": "ipython",
    "version": 3
   },
   "file_extension": ".py",
   "mimetype": "text/x-python",
   "name": "python",
   "nbconvert_exporter": "python",
   "pygments_lexer": "ipython3",
   "version": "3.8.10"
  }
 },
 "nbformat": 4,
 "nbformat_minor": 5
}
