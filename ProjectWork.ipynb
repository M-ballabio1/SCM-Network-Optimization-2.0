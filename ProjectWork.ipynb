{
 "cells": [
  {
   "cell_type": "code",
   "execution_count": null,
   "id": "047bb4f9",
   "metadata": {},
   "outputs": [],
   "source": [
    "%load_ext autoreload\n",
    "%autoreload 2"
   ]
  },
  {
   "cell_type": "code",
   "execution_count": null,
   "id": "b0f13b76",
   "metadata": {},
   "outputs": [],
   "source": [
    "# Import functions\n",
    "from netopt import netopt, print_solution, plot_map\n",
    "from data_structures import (show_data, set_capacity, set_all_capacities, set_fixed_cost,\n",
    "                             set_all_fixed_costs, scale_demand, scale_all_demands, set_demand,\n",
    "                             set_all_demands, calculate_dm)\n",
    "\n",
    "# Import data\n",
    "# The variable customers_as_is contains the existing customers, while the variable customers_to_be contains both\n",
    "# existing and prospective customers\n",
    "# The variable warehouses contains all the candidate locations, including the existing one (Bologna, id 6)\n",
    "\n",
    "from projectwork_data import warehouses, customers_as_is, customers_to_be\n"
   ]
  },
  {
   "cell_type": "code",
   "execution_count": null,
   "id": "a7d4a814",
   "metadata": {},
   "outputs": [],
   "source": [
    "# Plot the data in the as-is scenario\n",
    "\n",
    "plot_map(warehouses=warehouses,\n",
    "         customers=customers_as_is,\n",
    "         warehouse_markersize=5,\n",
    "         warehouse_marker='s',\n",
    "         warehouse_markercolor='red',\n",
    "         customer_markersize=3,\n",
    "         customer_marker='x',\n",
    "         customer_markercolor='blue')\n"
   ]
  },
  {
   "cell_type": "code",
   "execution_count": null,
   "id": "10fb03a5",
   "metadata": {},
   "outputs": [],
   "source": [
    "# Show the customers data in tabular form. Use the data in the column Id to refer to single customers or warehouses\n",
    "show_data(customers_as_is)\n"
   ]
  },
  {
   "cell_type": "code",
   "execution_count": null,
   "id": "c19edaee",
   "metadata": {},
   "outputs": [],
   "source": [
    "# You can show warehouses data as well\n",
    "show_data(warehouses)\n"
   ]
  },
  {
   "cell_type": "code",
   "execution_count": null,
   "id": "fecf99ae",
   "metadata": {},
   "outputs": [],
   "source": [
    "# Calculate the distance matrixes. The distance matrixes are necessary for the model\n",
    "dist_as_is = calculate_dm(warehouses=warehouses,\n",
    "                          customers=customers_as_is)\n",
    "\n",
    "dist_to_be = calculate_dm(warehouses=warehouses,\n",
    "                          customers=customers_to_be)"
   ]
  },
  {
   "cell_type": "code",
   "execution_count": null,
   "id": "13296fc2",
   "metadata": {},
   "outputs": [],
   "source": [
    "# The functions available are the following:\n",
    "# netopt() - Solve the optimization model\n",
    "# set_capacity() - change the capacity of a warehouse\n",
    "# set_all_capacities() - change the capacity of all warehouses\n",
    "# set_fixed_cost() - change the yearly fixed cost of a warehouse\n",
    "# set_all_fixed_costs() - change the yearly fixed cost of all warehouses\n",
    "# scale_demand() - scale the demand of a customer by a factor\n",
    "# scale_all_demands() - scale the demand of all customer by a factor\n",
    "# set_demand() - change the demand of a customer\n",
    "# set_all_demands() - change the demand of all customers\n",
    "# print_solution() - print detail of the solution\n",
    "\n",
    "# Type the function name without parentheses and preceeded by ? to access a short description of the function and the parameters\n",
    "# Example:\n",
    "?netopt"
   ]
  },
  {
   "cell_type": "code",
   "execution_count": null,
   "id": "a6e8af8f",
   "metadata": {},
   "outputs": [],
   "source": [
    "# For example, the following command \"solves\" the as-is scenario with the Bologna warehouse active\n",
    "results = netopt(num_warehouses=1,\n",
    "                 warehouses=warehouses,\n",
    "                 customers=customers_as_is,\n",
    "                 distance=dist_as_is,\n",
    "                 objective='mincost',\n",
    "                 distance_ranges=[0, 100, 400, 800, 1200],\n",
    "                 high_service_distance=None,\n",
    "                 avg_service_distance=None,\n",
    "                 max_service_distance=None,\n",
    "                 force_single_sourcing=True,\n",
    "                 force_uncapacitated=False,\n",
    "                 force_allocations=[],\n",
    "                 force_open=[6],\n",
    "                 ignore_fixed_cost=False,\n",
    "                 plot=True,\n",
    "                 warehouse_markersize=5,\n",
    "                 warehouse_active_markersize=8,\n",
    "                 hide_inactive=True)\n",
    "print_solution(results)"
   ]
  },
  {
   "cell_type": "code",
   "execution_count": null,
   "id": "a4e3d62f",
   "metadata": {},
   "outputs": [],
   "source": []
  }
 ],
 "metadata": {
  "kernelspec": {
   "display_name": "Python 3 (ipykernel)",
   "language": "python",
   "name": "python3"
  },
  "language_info": {
   "codemirror_mode": {
    "name": "ipython",
    "version": 3
   },
   "file_extension": ".py",
   "mimetype": "text/x-python",
   "name": "python",
   "nbconvert_exporter": "python",
   "pygments_lexer": "ipython3",
   "version": "3.8.10"
  }
 },
 "nbformat": 4,
 "nbformat_minor": 5
}
