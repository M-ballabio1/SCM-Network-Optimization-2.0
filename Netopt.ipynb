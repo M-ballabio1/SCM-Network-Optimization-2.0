{
 "cells": [
  {
   "cell_type": "code",
   "execution_count": 2,
   "id": "89686370",
   "metadata": {},
   "outputs": [],
   "source": [
    "%load_ext autoreload\n",
    "%autoreload 2\n"
   ]
  },
  {
   "cell_type": "code",
   "execution_count": 5,
   "id": "fb9a92c8",
   "metadata": {},
   "outputs": [],
   "source": [
    "from netopt import netopt, print_dict, plot_map\n",
    "#from network_optimization import optimal_location, optimal_location_service_level, print_dict, plot\n",
    "from scenario_5 import warehouses, customers, distance\n",
    "# scenario_4 is like scenario_1 with  capacities\n",
    "from data_structures import import_data, set_capacity, set_all_capacities, set_fixed_cost, calculate_dm"
   ]
  },
  {
   "cell_type": "code",
   "execution_count": null,
   "id": "528b05ec",
   "metadata": {},
   "outputs": [],
   "source": [
    "plot_map(warehouses=warehouses,\n",
    "         customers=customers,\n",
    "         warehouse_markersize=5,\n",
    "         warehouse_marker='s',\n",
    "         warehouse_markercolor='red',\n",
    "         customer_markersize=3,\n",
    "         customer_marker='x',\n",
    "         customer_markercolor='blue')"
   ]
  },
  {
   "cell_type": "code",
   "execution_count": null,
   "id": "ff46992f",
   "metadata": {},
   "outputs": [],
   "source": [
    "results = netopt(num_warehouses=3,\n",
    "                 warehouses=warehouses,\n",
    "                 customers=customers,\n",
    "                 distance=distance,\n",
    "                 objective='mindistance',\n",
    "                 #distance_ranges=[0, 100, 400, 800, 1200],\n",
    "                 high_service_distance=None,\n",
    "                 avg_service_distance=None,\n",
    "                 max_service_distance=None,\n",
    "                 force_single_sourcing=True,\n",
    "                 force_uncapacitated=False,\n",
    "                 #forced_open=[164, 19, 147, 94, 5],\n",
    "                 plot=True,\n",
    "                 warehouse_markersize=5,\n",
    "                 warehouse_active_markersize=8)\n",
    "print_dict(results)"
   ]
  },
  {
   "cell_type": "code",
   "execution_count": null,
   "id": "07896fb3",
   "metadata": {},
   "outputs": [],
   "source": [
    "set_all_capacities(warehouses, 30_000_000)"
   ]
  },
  {
   "cell_type": "code",
   "execution_count": null,
   "id": "1fc7841d",
   "metadata": {},
   "outputs": [],
   "source": [
    "set_capacity(warehouses, 5, 40_000_000)"
   ]
  },
  {
   "cell_type": "code",
   "execution_count": null,
   "id": "864c1acc",
   "metadata": {},
   "outputs": [],
   "source": [
    "data = [\"A;10;10;1000\", \"B;20;100;2000\", \"C;50;10;-1\"]\n",
    "\n",
    "\n"
   ]
  },
  {
   "cell_type": "code",
   "execution_count": null,
   "id": "6201bffb",
   "metadata": {},
   "outputs": [],
   "source": [
    "import_csv(data)\n"
   ]
  },
  {
   "cell_type": "code",
   "execution_count": null,
   "id": "8251f573",
   "metadata": {},
   "outputs": [],
   "source": [
    "a = reader(data)"
   ]
  },
  {
   "cell_type": "code",
   "execution_count": null,
   "id": "694dac5a",
   "metadata": {},
   "outputs": [],
   "source": [
    "\n",
    "from netopt import netopt, print_dict, plot_map\n",
    "#from network_optimization import optimal_location, optimal_location_service_level, print_dict, plot\n",
    "from scenario_5 import warehouses, customers, distance\n",
    "# scenario_4 is like scenario_1 with  capacities\n",
    "from data_structures import import_data, calculate_dm, show_data, set_capacity, set_all_capacities\n",
    "from data_structures import Customer as C, Warehouse as W"
   ]
  },
  {
   "cell_type": "code",
   "execution_count": null,
   "id": "08fce706",
   "metadata": {},
   "outputs": [],
   "source": [
    "whs_1 = [\"A;10;10;1000\", \"B;10;100;2000\", \"C;50;10;-1\", \"D;100;20;1000\"]\n",
    "cst_1 = [\"1;70;40;1000\", \"2;40;80;2000\", \"3;90;10;1000\"]\n",
    "\n",
    "whs = import_data(whs_1, 'warehouse')\n",
    "cst = import_data(cst_1, 'customer')\n",
    "dist = calculate_dm(warehouses=whs,\n",
    "                    customers=cst)"
   ]
  },
  {
   "cell_type": "code",
   "execution_count": null,
   "id": "1ecb014e",
   "metadata": {},
   "outputs": [],
   "source": [
    "show_data(whs)"
   ]
  },
  {
   "cell_type": "code",
   "execution_count": null,
   "id": "ea2a235b",
   "metadata": {},
   "outputs": [],
   "source": [
    "set_fixed_cost(warehouses=whs, w_id=0, fixed_cost=1000)\n",
    "set_capacity(warehouses=whs, w_id=0, capacity=600)"
   ]
  },
  {
   "cell_type": "code",
   "execution_count": null,
   "id": "f64a030e",
   "metadata": {},
   "outputs": [],
   "source": [
    "plot_map(warehouses=whs,\n",
    "         customers=cst,\n",
    "         warehouse_markersize=5,\n",
    "         warehouse_marker='s',\n",
    "         warehouse_markercolor='red',\n",
    "         customer_markersize=3,\n",
    "         customer_marker='x',\n",
    "         customer_markercolor='blue')"
   ]
  },
  {
   "cell_type": "code",
   "execution_count": null,
   "id": "6d144172",
   "metadata": {},
   "outputs": [],
   "source": [
    "results = netopt(num_warehouses=4,\n",
    "                 warehouses=whs,\n",
    "                 customers=cst,\n",
    "                 distance=dist,\n",
    "                 objective='mindistance',\n",
    "                 distance_ranges=[0, 100, 400, 800, 1200],\n",
    "                 high_service_distance=None,\n",
    "                 avg_service_distance=None,\n",
    "                 max_service_distance=None,\n",
    "                 force_single_sourcing=False,\n",
    "                 force_uncapacitated=False,\n",
    "                 #force_allocations=[(0, 0), (1, 1), (2, 2)],\n",
    "                 #force_open=[164, 19, 147, 94, 5],\n",
    "                 plot=True,\n",
    "                 warehouse_markersize=5,\n",
    "                 warehouse_active_markersize=8,\n",
    "                 hide_inactive=True)\n",
    "print_dict(results)"
   ]
  },
  {
   "cell_type": "code",
   "execution_count": null,
   "id": "e9b8d2a8",
   "metadata": {},
   "outputs": [],
   "source": [
    "set_capacity(whs, 4, 10_000_000)"
   ]
  },
  {
   "cell_type": "code",
   "execution_count": null,
   "id": "dc56c908",
   "metadata": {},
   "outputs": [],
   "source": [
    "list(a)\n"
   ]
  },
  {
   "cell_type": "code",
   "execution_count": null,
   "id": "f6d6fc2e",
   "metadata": {},
   "outputs": [],
   "source": [
    "show_data(whs)"
   ]
  },
  {
   "cell_type": "code",
   "execution_count": null,
   "id": "95ebe7fd",
   "metadata": {},
   "outputs": [],
   "source": [
    "data_cst = [\"Rome;41.8931;12.4828;2872800\",\n",
    "\"Milan;45.4669;9.19;1366180\",\n",
    "\"Turin;45.0667;7.7;870952\",\n",
    "\"Genoa;44.4072;8.934;580097\",\n",
    "\"Bologna;44.4939;11.3428;389261\",\n",
    "\"Florence;43.7714;11.2542;380948\",\n",
    "\"Venice;45.4397;12.3319;261321\",\n",
    "\"Verona;45.4386;10.9928;257275\",\n",
    "\"Padova;45.4064;11.8778;210440\",\n",
    "\"Trieste;45.6503;13.7703;204338\",\n",
    "\"Brescia;45.5389;10.2203;196745\",\n",
    "\"Parma;44.8015;10.328;195687\",\n",
    "\"Prato;43.8808;11.0966;193325\",\n",
    "\"Modena;44.6458;10.9257;185273\",\n",
    "\"Reggio Emilia;44.7;10.6333;171944\",\n",
    "\"Ravenna;44.4178;12.1994;159115\",\n",
    "\"Livorno;43.55;10.3167;158371\",\n",
    "\"Rimini;44.0594;12.5683;149403\",\n",
    "\"Ferrara;44.8353;11.6199;132278\",\n",
    "\"Monza;45.5836;9.2736;123598\",\n",
    "\"Bergamo;45.695;9.67;120923\",\n",
    "\"Trento;46.0667;11.1167;117997\",\n",
    "\"Forlì;44.2225;12.0408;117863\",\n",
    "\"Vicenza;45.55;11.55;111620\",\n",
    "\"Bolzano;46.5;11.35;107317\",\n",
    "\"Novara;45.45;8.6167;104183\",\n",
    "\"Piacenza;45.05;9.7;103082\",\n",
    "\"Udine;46.0667;13.2333;99518\",\n",
    "\"Arezzo;43.4631;11.8781;99419\",\n",
    "\"Cesena;44.1333;12.2333;96760\",\n",
    "\"Pesaro;43.9102;12.9133;94958\",\n",
    "\"Alessandria;44.9133;8.62;93980\",\n",
    "\"La Spezia;44.108;9.8289;93311\",\n",
    "\"Pistoia;43.9333;10.9167;90195\",\n",
    "\"Pisa;43.7167;10.4;90118\",\n",
    "\"Mestre;45.4906;12.2381;89376\",\n",
    "\"Lucca;43.85;10.5167;89243\",\n",
    "\"Treviso;45.6722;12.2422;84954\",\n",
    "\"Busto Arsizio;45.612;8.8518;83405\",\n",
    "\"Como;45.8103;9.0861;83320\",\n",
    "\"Sesto San Giovanni;45.5333;9.2333;81773\",\n",
    "\"Varese;45.8167;8.8333;80544\",\n",
    "\"Fiumicino;41.7667;12.2333;79630\",\n",
    "\"Asti;44.9;8.2069;76211\",\n",
    "\"Cinisello Balsamo;45.55;9.2167;75723\",\n",
    "\"Pavia;45.1853;9.155;72773\",\n",
    "\"Cremona;45.1333;10.0333;72077\",\n",
    "\"Carpi;44.7833;10.885;71148\",\n",
    "\"Imola;44.3531;11.7147;69936\",\n",
    "\"Vigevano;45.3167;8.8667;63153\",\n",
    "\"Carrara;44.0833;10.1;62537\",\n",
    "\"Viareggio;43.8672;10.2506;62079\",\n",
    "\"Savona;44.308;8.481;60632\",\n",
    "\"Legnano;45.5781;8.9183;60177\",\n",
    "\"Faenza;44.2856;11.8833;58797\",\n",
    "\"Cerignola;41.2667;15.9;58540\",\n",
    "\"Moncalieri;45;7.6833;57234\",\n",
    "\"Foligno;42.9561;12.7033;56999\",\n",
    "\"Cuneo;44.3833;7.55;56281\",\n",
    "\"Modica;36.8672;14.7614;54530\",\n",
    "\"San Remo;43.8175;7.775;54529\",\n",
    "\"Siena;43.3183;11.3314;53901\",\n",
    "\"Gallarate;45.6649;8.7914;53425\",\n",
    "\"Rovigo;45.0809;11.794;51149\",\n",
    "\"Pordenone;45.9626;12.6563;51127\",\n",
    "\"Rho;45.5333;9.0333;50904\",\n",
    "\"Scandicci;43.7544;11.1894;50645\",\n",
    "\"Ardea;41.6167;12.55;49663\",\n",
    "\"Collegno;45.0833;7.5833;49597\",\n",
    "\"Chioggia;45.2189;12.2785;49430\",\n",
    "\"Mantova;45.1564;10.7911;49409\",\n",
    "\"Sesto Fiorentino;43.8333;11.2;49091\",\n",
    "\"Ascoli Piceno;42.8547;13.5753;48773\",\n",
    "\"Rivoli;45.0725;7.5272;48629\",\n",
    "\"Empoli;43.7167;10.95;48626\",\n",
    "\"Lecco;45.85;9.4;48177\",\n",
    "\"Cologno Monzese;45.5286;9.2783;47720\",\n",
    "\"Settimo Torinese;45.1333;7.7667;47220\",\n",
    "\"Paderno Dugnano;45.5667;9.1667;46701\",\n",
    "\"Vercelli;45.3167;8.4167;46181\",\n",
    "\"Lissone;45.6167;9.25;45535\",\n",
    "\"Lodi;45.3167;9.5;45252\",\n",
    "\"Seregno;45.65;9.2;45131\",\n",
    "\"Biella;45.5664;8.0533;44324\",\n",
    "\"Bassano del Grappa;45.7686;11.7367;43481\",\n",
    "\"Rozzano;45.3833;9.15;42442\",\n",
    "\"Imperia;43.8865;8.0297;42318\",\n",
    "\"Desio;45.6167;9.2167;42079\",\n",
    "\"San Donà di Piave;45.6298;12.5641;41794\",\n",
    "\"Sassuolo;44.5517;10.7856;40826\",\n",
    "\"Merano;46.6689;11.1639;40485\",\n",
    "]\n",
    "cst = import_data(data_cst, 'customer')"
   ]
  },
  {
   "cell_type": "code",
   "execution_count": null,
   "id": "ac1a1f8a",
   "metadata": {},
   "outputs": [],
   "source": [
    "data_cst = [\"Rome;41.8931;12.4828;2872800\",\n",
    "\"Milan;45.4669;9.19;1366180\",\n",
    "\"Naples;40.8333;14.25;966144\",\n",
    "\"Turin;45.0667;7.7;870952\",\n",
    "\"Palermo;38.1157;13.3613;668405\",\n",
    "\"Genoa;44.4072;8.934;580097\",\n",
    "\"Bologna;44.4939;11.3428;389261\",\n",
    "\"Florence;43.7714;11.2542;380948\",\n",
    "\"Bari;41.1253;16.8667;323370\",\n",
    "\"Catania;37.5027;15.0873;311584\",\n",
    "\"Venice;45.4397;12.3319;261321\",\n",
    "\"Verona;45.4386;10.9928;257275\",\n",
    "\"Messina;38.1936;15.5542;234293\",\n",
    "\"Padova;45.4064;11.8778;210440\",\n",
    "\"Trieste;45.6503;13.7703;204338\",\n",
    "\"Taranto;40.4181;17.2408;198283\",\n",
    "\"Brescia;45.5389;10.2203;196745\"]\n",
    "x = \"\"\"\n",
    "\"Parma;44.8015;10.328;195687\",\n",
    "\"Prato;43.8808;11.0966;193325\",\n",
    "\"Modena;44.6458;10.9257;185273\",\n",
    "\"Reggio di Calabria;38.1144;15.65;181447\",\n",
    "\"Reggio Emilia;44.7;10.6333;171944\",\n",
    "\"Perugia;43.1121;12.3888;165683\",\n",
    "\"Ravenna;44.4178;12.1994;159115\",\n",
    "\"Livorno;43.55;10.3167;158371\",\n",
    "\"Cagliari;39.2167;9.1167;154106\",\n",
    "\"Foggia;41.4584;15.5519;151372\",\n",
    "\"Rimini;44.0594;12.5683;149403\",\n",
    "\"Salerno;40.6806;14.7597;133970\",\n",
    "\"Ferrara;44.8353;11.6199;132278\",\n",
    "\"Latina;41.4676;12.9037;126470\",\n",
    "\"Giugliano in Campania;40.9319;14.1956;124361\",\n",
    "\"Monza;45.5836;9.2736;123598\",\n",
    "\"Siracusa;37.0692;15.2875;121171\",\n",
    "\"Bergamo;45.695;9.67;120923\",\n",
    "\"Pescara;42.4643;14.2142;119217\",\n",
    "\"Trento;46.0667;11.1167;117997\",\n",
    "\"Forlì;44.2225;12.0408;117863\",\n",
    "\"Sassari;40.7267;8.5592;116641\",\n",
    "\"Vicenza;45.55;11.55;111620\",\n",
    "\"Terni;42.5667;12.65;111189\",\n",
    "\"Bolzano;46.5;11.35;107317\",\n",
    "\"Novara;45.45;8.6167;104183\",\n",
    "\"Piacenza;45.05;9.7;103082\",\n",
    "\"Ancona;43.6167;13.5167;100924\",\n",
    "\"Andria;41.2317;16.3083;99857\",\n",
    "\"Udine;46.0667;13.2333;99518\",\n",
    "\"Arezzo;43.4631;11.8781;99419\",\n",
    "\"Cesena;44.1333;12.2333;96760\",\n",
    "\"Lecce;40.352;18.1691;95441\",\n",
    "\"Pesaro;43.9102;12.9133;94958\",\n",
    "\"Barletta;41.3167;16.2833;94477\",\n",
    "\"Alessandria;44.9133;8.62;93980\",\n",
    "\"La Spezia;44.108;9.8289;93311\",\n",
    "\"Pistoia;43.9333;10.9167;90195\",\n",
    "\"Pisa;43.7167;10.4;90118\",\n",
    "\"Catanzaro;38.91;16.5875;89718\",\n",
    "\"Mestre;45.4906;12.2381;89376\",\n",
    "\"Lucca;43.85;10.5167;89243\",\n",
    "\"Brindisi;40.6383;17.9458;87141\",\n",
    "\"Torre del Greco;40.7853;14.3953;85332\",\n",
    "\"Treviso;45.6722;12.2422;84954\",\n",
    "\"Busto Arsizio;45.612;8.8518;83405\",\n",
    "\"Como;45.8103;9.0861;83320\",\n",
    "\"Marsala;37.7981;12.4342;82802\",\n",
    "\"Grosseto;42.7722;11.1089;82036\",\n",
    "\"Sesto San Giovanni;45.5333;9.2333;81773\",\n",
    "\"Pozzuoli;40.8231;14.1222;81141\",\n",
    "\"Varese;45.8167;8.8333;80544\",\n",
    "\"Fiumicino;41.7667;12.2333;79630\",\n",
    "\"Casoria;40.9;14.3;77087\",\n",
    "\"Asti;44.9;8.2069;76211\",\n",
    "\"Cinisello Balsamo;45.55;9.2167;75723\",\n",
    "\"Caserta;41.0667;14.3333;75561\",\n",
    "\"Gela;37.0667;14.25;74858\",\n",
    "\"Ragusa;36.925;14.7306;73638\",\n",
    "\"Pavia;45.1853;9.155;72773\",\n",
    "\"Cremona;45.1333;10.0333;72077\",\n",
    "\"Carpi;44.7833;10.885;71148\",\n",
    "\"Quartu Sant’Elena;39.2291;9.2649;70879\",\n",
    "\"Altamura;40.8167;16.55;70514\",\n",
    "\"Imola;44.3531;11.7147;69936\",\n",
    "\"L’Aquila;42.354;13.392;69439\",\n",
    "\"Massa;44.0333;10.1333;69037\",\n",
    "\"Trapani;38.0175;12.515;67923\",\n",
    "\"Viterbo;42.4186;12.1042;67798\",\n",
    "\"Cosenza;39.3;16.25;67239\",\n",
    "\"Potenza;40.6333;15.8;67211\",\n",
    "\"Castellammare di Stabia;40.7;14.4833;65922\",\n",
    "\"Afragola;40.9167;14.3167;64817\",\n",
    "\"Vittoria;36.95;14.5333;64212\",\n",
    "\"Crotone;39.0833;17.1167;63941\",\n",
    "\"Pomezia;41.6693;12.5021;63641\",\n",
    "\"Vigevano;45.3167;8.8667;63153\",\n",
    "\"Carrara;44.0833;10.1;62537\",\n",
    "\"Caltanissetta;37.4915;14.0624;62317\",\n",
    "\"Viareggio;43.8672;10.2506;62079\",\n",
    "\"Benevento;41.1256;14.7811;61791\",\n",
    "\"Fano;43.8435;13.0198;60978\",\n",
    "\"Savona;44.308;8.481;60632\",\n",
    "\"Matera;40.6667;16.6;60403\",\n",
    "\"Olbia;40.9167;9.5;60261\",\n",
    "\"Legnano;45.5781;8.9183;60177\",\n",
    "\"Acerra;40.95;14.3667;59910\",\n",
    "\"Marano di Napoli;40.9;14.1833;59862\",\n",
    "\"Molfetta;41.2;16.6;59470\",\n",
    "\"Agrigento;37.3111;13.5765;59329\",\n",
    "\"Faenza;44.2856;11.8833;58797\",\n",
    "\"Cerignola;41.2667;15.9;58540\",\n",
    "\"Moncalieri;45;7.6833;57234\",\n",
    "\"Foligno;42.9561;12.7033;56999\",\n",
    "\"Manfredonia;41.6333;15.9167;56906\",\n",
    "\"Tivoli;41.9667;12.8;56542\",\n",
    "\"Cuneo;44.3833;7.55;56281\",\n",
    "\"Trani;41.2667;16.4167;56031\",\n",
    "\"Bisceglie;41.2409;16.5021;55385\",\n",
    "\"Bitonto;41.1083;16.6917;55127\",\n",
    "\"Bagheria;38.0833;13.5;55047\",\n",
    "\"Portici;40.8197;14.3411;54577\",\n",
    "\"Modica;36.8672;14.7614;54530\",\n",
    "\"San Remo;43.8175;7.775;54529\",\n",
    "\"Teramo;42.6589;13.7039;54338\",\n",
    "\"Montesilvano;42.5119;14.1373;54194\",\n",
    "\"Avellino;40.9153;14.7897;53908\",\n",
    "\"Siena;43.3183;11.3314;53901\",\n",
    "\"Gallarate;45.6649;8.7914;53425\",\n",
    "\"Velletri;41.6667;12.7833;53188\",\n",
    "\"Cava de’ Tirreni;40.7008;14.7056;53130\",\n",
    "\"San Severo;41.6951;15.3793;53015\",\n",
    "\"Aversa;40.973;14.2065;52794\",\n",
    "\"Ercolano;40.8068;14.3526;52763\",\n",
    "\"Anzio;41.4472;12.6283;52381\",\n",
    "\"Acireale;37.6125;15.1656;52269\",\n",
    "\"Civitavecchia;42.1;11.8;51595\",\n",
    "\"Mazara del Vallo;37.6517;12.5875;51488\",\n",
    "\"Rovigo;45.0809;11.794;51149\",\n",
    "\"Pordenone;45.9626;12.6563;51127\",\n",
    "\"Battipaglia;40.6167;14.9833;51005\",\n",
    "\"Rho;45.5333;9.0333;50904\",\n",
    "\"Chieti;42.3511;14.1674;50770\",\n",
    "\"Scafati;40.7536;14.5253;50686\",\n",
    "\"Scandicci;43.7544;11.1894;50645\",\n",
    "\"Misterbianco;37.5183;15.0069;49992\",\n",
    "\"Nettuno;41.4667;12.6667;49852\",\n",
    "\"Ardea;41.6167;12.55;49663\",\n",
    "\"Collegno;45.0833;7.5833;49597\",\n",
    "\"Chioggia;45.2189;12.2785;49430\",\n",
    "\"Mantova;45.1564;10.7911;49409\",\n",
    "\"Campobasso;41.561;14.6684;49262\",\n",
    "\"Casalnuovo di Napoli;40.9167;14.35;49250\",\n",
    "\"Sesto Fiorentino;43.8333;11.2;49091\",\n",
    "\"Monopoli;40.95;17.3;48964\",\n",
    "\"Martina Franca;40.7;17.3333;48786\",\n",
    "\"Ascoli Piceno;42.8547;13.5753;48773\",\n",
    "\"Rivoli;45.0725;7.5272;48629\",\n",
    "\"Empoli;43.7167;10.95;48626\",\n",
    "\"Corato;41.15;16.4;48262\",\n",
    "\"Lecco;45.85;9.4;48177\",\n",
    "\"Paterno;37.5667;14.9;47827\",\n",
    "\"Nichelino;45;7.65;47721\",\n",
    "\"Cologno Monzese;45.5286;9.2783;47720\",\n",
    "\"Rieti;42.4044;12.8567;47436\",\n",
    "\"San Benedetto del Tronto;42.9438;13.8833;47351\",\n",
    "\"Settimo Torinese;45.1333;7.7667;47220\",\n",
    "\"Paderno Dugnano;45.5667;9.1667;46701\",\n",
    "\"Campi Bisenzio;43.8256;11.1333;46696\",\n",
    "\"Terracina;41.2833;13.25;46323\",\n",
    "\"Vercelli;45.3167;8.4167;46181\",\n",
    "\"Capannori;43.8756;10.5736;46072\",\n",
    "\"Frosinone;41.6333;13.35;46063\",\n",
    "\"Nocera Inferiore;40.75;14.6333;45784\",\n",
    "\"Lissone;45.6167;9.25;45535\",\n",
    "\"Alcamo;37.9667;12.9667;45273\",\n",
    "\"Lodi;45.3167;9.5;45252\",\n",
    "\"Cascina;43.68;10.5003;45212\",\n",
    "\"Seregno;45.65;9.2;45131\",\n",
    "\"San Giorgio a Cremano;40.8333;14.3333;45122\",\n",
    "\"Senigallia;43.7131;13.2183;44616\",\n",
    "\"Marino;41.7667;12.6667;44472\",\n",
    "\"Biella;45.5664;8.0533;44324\",\n",
    "\"Alghero;40.56;8.315;43964\",\n",
    "\"Gravina in Puglia;40.8206;16.4233;43816\",\n",
    "\"Bassano del Grappa;45.7686;11.7367;43481\",\n",
    "\"Rozzano;45.3833;9.15;42442\",\n",
    "\"Torre Annunziata;40.7569;14.4444;42406\",\n",
    "\"Civitanova Marche;43.3068;13.7286;42353\",\n",
    "\"Imperia;43.8865;8.0297;42318\",\n",
    "\"Avezzano;42.031;13.4264;42276\",\n",
    "\"Desio;45.6167;9.2167;42079\",\n",
    "\"San Donà di Piave;45.6298;12.5641;41794\",\n",
    "\"Macerata;43.3003;13.4533;41776\",\n",
    "\"Ladispoli;41.9544;12.0742;41604\",\n",
    "\"Barcellona-Pozzo di Gotto;38.15;15.2167;41389\",\n",
    "\"Albano Laziale;41.7333;12.6667;41314\",\n",
    "\"Monterotondo;42.05;12.6167;41144\",\n",
    "\"Sassuolo;44.5517;10.7856;40826\",\n",
    "\"Sciacca;37.5092;13.0889;40488\",\n",
    "\"Merano;46.6689;11.1639;40485\",\n",
    "\"Corigliano Calabro;39.6;16.5167;40478\",\n",
    "\"\"\"\n",
    "cst = import_data(data_cst, 'customer')\n",
    "show_data(cst)"
   ]
  },
  {
   "cell_type": "code",
   "execution_count": null,
   "id": "235dd426",
   "metadata": {
    "scrolled": true
   },
   "outputs": [],
   "source": [
    "# latitude = y\n",
    "# longitude = x\n",
    "\n",
    "data_whs = [\"Rovereto;45.8833;11.0342;39825\",\n",
    "\"Carmagnola;44.85;7.7167;28969;0\",\n",
    "\"Ginosa;40.5;16.75;22430;0\",\n",
    "\"Silvi Paese;42.55;14.1167;15708;0\",\n",
    "\"Mondolfo;43.7517;13.0956;14265;0\",\n",
    "\"Fisciano;40.7667;14.8;13967;0\",\n",
    "\"Cassina de’ Pecchi;45.5167;9.3667;13849;0\",\n",
    "\"San Gregorio di Catania;37.5667;15.1167;11880;0\",\n",
    "\"Portomaggiore;44.7;11.8;11630;0\",]\n",
    "\n",
    "x = \"\"\"            \"Quinto di Treviso;45.65;12.1667;9912\",\n",
    "\"Castelnuovo Berardenga;43.3472;11.5042;9086\",\n",
    "\"Gatteo;44.1;12.3833;8988\",\n",
    "\"Laveno-Mombello;45.9089;8.6204;8684\",\n",
    "\"Campomarino;41.9567;15.0344;8074\",\n",
    "\"Campofelice di Roccella;37.9833;13.8833;7516\",\n",
    "\"Varallo;45.8138;8.2581;7146\",\n",
    "\"Fossò;45.3833;12.05;7041\",\n",
    "\"Borgo a Mozzano;43.9797;10.5467;6994\",\n",
    "\"Saltara;43.7534;12.8976;6966\",\n",
    "\"Quinto Vicentino;45.5667;11.6167;5815\",\n",
    "\"Ceva;44.3833;8.0333;5774\",\n",
    "\"San Dorligo della Valle;45.6225;13.8578;5754\",\n",
    "\"Misinto;45.6667;9.0833;5576\",\n",
    "\"Spadafora;38.2333;15.3833;4983\",\n",
    "\"San Martino in Pensilis;41.8667;15.0167;4752\",\n",
    "\"Ormelle;45.7803;12.4197;4486\",\n",
    "\"Montecchia di Crosara;45.4833;11.25;4325\",\n",
    "\"Grisignano di Zocco;45.4833;11.7;4293\",\n",
    "\"Canale Monterano;42.1333;12.1;4165\",\n",
    "\"Stigliano;40.4;16.2333;4112\",\n",
    "\"Citerna;43.5;12.1167;3463\",\n",
    "\"Camporeale;37.9;13.1;3238\",\n",
    "\"Sarmede;45.9775;12.3853;3061\",\n",
    "\"San Nicolò d’Arcidano;39.6835;8.6466;2630\",\n",
    "\"Pieve Fosciana;44.1328;10.4119;2484\",\"\"\"\n",
    "\n",
    "whs = import_data(data_whs, 'warehouse')\n",
    "show_data(whs)"
   ]
  },
  {
   "cell_type": "code",
   "execution_count": null,
   "id": "c6fbb630",
   "metadata": {},
   "outputs": [],
   "source": [
    "plot_map(warehouses=whs,\n",
    "         customers=cst)"
   ]
  },
  {
   "cell_type": "code",
   "execution_count": null,
   "id": "820fa284",
   "metadata": {},
   "outputs": [],
   "source": [
    "dist = calculate_dm(warehouses=whs,\n",
    "                    customers=cst)"
   ]
  },
  {
   "cell_type": "code",
   "execution_count": null,
   "id": "4b9cb63c",
   "metadata": {},
   "outputs": [],
   "source": [
    "results = netopt(num_warehouses=2,\n",
    "                 warehouses=whs,\n",
    "                 customers=cst,\n",
    "                 distance=dist,\n",
    "                 objective='mindistance',\n",
    "                 distance_ranges=[0, 100, 400, 800, 1200],\n",
    "                 high_service_distance=None,\n",
    "                 avg_service_distance=None,\n",
    "                 max_service_distance=None,\n",
    "                 force_single_sourcing=False,\n",
    "                 force_uncapacitated=True,\n",
    "                 #force_allocations=[(0, 0), (1, 1), (2, 2)],\n",
    "                 force_open=[7],\n",
    "                 plot=True,\n",
    "                 warehouse_markersize=5,\n",
    "                 warehouse_active_markersize=8,\n",
    "                 hide_inactive=True)\n",
    "print_dict(results)"
   ]
  },
  {
   "cell_type": "code",
   "execution_count": null,
   "id": "ec0d2948",
   "metadata": {},
   "outputs": [],
   "source": [
    "\n",
    "from netopt import netopt, print_dict, plot_map, set_capacity, set_all_capacities\n",
    "#from network_optimization import optimal_location, optimal_location_service_level, print_dict, plot\n",
    "from scenario_5 import warehouses, customers, distance\n",
    "# scenario_4 is like scenario_1 with  capacities\n",
    "from data_structures import import_data, calculate_dm, show_data"
   ]
  },
  {
   "cell_type": "code",
   "execution_count": null,
   "id": "6849da28",
   "metadata": {},
   "outputs": [],
   "source": [
    "cst"
   ]
  },
  {
   "cell_type": "code",
   "execution_count": null,
   "id": "02295906",
   "metadata": {},
   "outputs": [],
   "source": [
    "cap = sum([int(x.capacity) for _, x in whs.items()])\n",
    "dem = sum([int(x.demand) for _, x in cst.items()])"
   ]
  },
  {
   "cell_type": "code",
   "execution_count": null,
   "id": "d4465d3f",
   "metadata": {},
   "outputs": [],
   "source": [
    "show_data(cst)"
   ]
  },
  {
   "cell_type": "code",
   "execution_count": null,
   "id": "9dbe6c10",
   "metadata": {},
   "outputs": [],
   "source": [
    "dem / 4"
   ]
  },
  {
   "cell_type": "code",
   "execution_count": null,
   "id": "12410e64",
   "metadata": {},
   "outputs": [],
   "source": [
    "infl = lambda x: x * 2"
   ]
  },
  {
   "cell_type": "code",
   "execution_count": null,
   "id": "bbf7389a",
   "metadata": {},
   "outputs": [],
   "source": [
    "set_all_capacities(whs, None)"
   ]
  },
  {
   "cell_type": "code",
   "execution_count": null,
   "id": "9c2aaa37",
   "metadata": {},
   "outputs": [],
   "source": [
    "import pandas as pd"
   ]
  },
  {
   "cell_type": "code",
   "execution_count": null,
   "id": "fc59a408",
   "metadata": {},
   "outputs": [],
   "source": [
    "cities = pd.read_excel('../locatios_cities_it.xlsx')"
   ]
  },
  {
   "cell_type": "code",
   "execution_count": null,
   "id": "112fbd0e",
   "metadata": {},
   "outputs": [],
   "source": [
    "cities[cities['city'] =='Bologna' ]"
   ]
  },
  {
   "cell_type": "code",
   "execution_count": null,
   "id": "8fd9d77a",
   "metadata": {},
   "outputs": [],
   "source": [
    "# Customers as-is\n",
    "lst = []\n",
    "for index, row in cities[(cities['lat'] >= 44.40571389901116) & (cities['population'] > 75000)].iterrows():\n",
    "    lst.append(f\"{row.city};{row.lat};{row.lng};{int(round(row.population / 1000, 0))}\")\n",
    "print(lst)"
   ]
  },
  {
   "cell_type": "code",
   "execution_count": null,
   "id": "55162327",
   "metadata": {},
   "outputs": [],
   "source": [
    "# Customers to-be\n",
    "\n",
    "for index, row in cities[(cities['lat'] < 44.40571389901116) & (cities['population'] > 75000)].iterrows():\n",
    "    lst.append(f\"{row.city};{row.lat};{row.lng};{int(round(row.population / 1000, 0))}\")\n",
    "print(lst)"
   ]
  },
  {
   "cell_type": "code",
   "execution_count": null,
   "id": "18f47ad8",
   "metadata": {},
   "outputs": [],
   "source": [
    "# Candidate warehouse\n",
    "whs_list = []\n",
    "for index, row in cities[(cities['population'] > 250000)].iterrows():\n",
    "    whs_list.append(f\"{row.city};{row.lat};{row.lng};{int(round(row.population / 1000, 0))}\")\n",
    "print(whs_list)"
   ]
  },
  {
   "cell_type": "code",
   "execution_count": null,
   "id": "a2d1cf3d",
   "metadata": {},
   "outputs": [],
   "source": [
    "cities[(cities['population'] > 250000)].shape"
   ]
  },
  {
   "cell_type": "code",
   "execution_count": null,
   "id": "b1cc57ba",
   "metadata": {},
   "outputs": [],
   "source": [
    "customers_as_is = ['Milan;45.4669;9.19;1366180', 'Turin;45.0667;7.7;870952', 'Genoa;44.4072;8.934;580097', 'Bologna;44.4939;11.3428;389261', 'Venice;45.4397;12.3319;261321', 'Verona;45.4386;10.9928;257275', 'Padova;45.4064;11.8778;210440', 'Trieste;45.6503;13.7703;204338', 'Brescia;45.5389;10.2203;196745', 'Parma;44.8015;10.328;195687', 'Modena;44.6458;10.9257;185273', 'Reggio Emilia;44.7;10.6333;171944', 'Ravenna;44.4178;12.1994;159115', 'Ferrara;44.8353;11.6199;132278', 'Monza;45.5836;9.2736;123598', 'Bergamo;45.695;9.67;120923', 'Trento;46.0667;11.1167;117997', 'Vicenza;45.55;11.55;111620', 'Bolzano;46.5;11.35;107317', 'Novara;45.45;8.6167;104183', 'Piacenza;45.05;9.7;103082', 'Udine;46.0667;13.2333;99518', 'Alessandria;44.9133;8.62;93980', 'Mestre;45.4906;12.2381;89376', 'Treviso;45.6722;12.2422;84954', 'Busto Arsizio;45.612;8.8518;83405', 'Como;45.8103;9.0861;83320', 'Sesto San Giovanni;45.5333;9.2333;81773', 'Varese;45.8167;8.8333;80544', 'Asti;44.9;8.2069;76211', 'Cinisello Balsamo;45.55;9.2167;75723']\n",
    "customers_to_be = ['Milan;45.4669;9.19;1366180', 'Turin;45.0667;7.7;870952', 'Genoa;44.4072;8.934;580097', 'Bologna;44.4939;11.3428;389261', 'Venice;45.4397;12.3319;261321', 'Verona;45.4386;10.9928;257275', 'Padova;45.4064;11.8778;210440', 'Trieste;45.6503;13.7703;204338', 'Brescia;45.5389;10.2203;196745', 'Parma;44.8015;10.328;195687', 'Modena;44.6458;10.9257;185273', 'Reggio Emilia;44.7;10.6333;171944', 'Ravenna;44.4178;12.1994;159115', 'Ferrara;44.8353;11.6199;132278', 'Monza;45.5836;9.2736;123598', 'Bergamo;45.695;9.67;120923', 'Trento;46.0667;11.1167;117997', 'Vicenza;45.55;11.55;111620', 'Bolzano;46.5;11.35;107317', 'Novara;45.45;8.6167;104183', 'Piacenza;45.05;9.7;103082', 'Udine;46.0667;13.2333;99518', 'Alessandria;44.9133;8.62;93980', 'Mestre;45.4906;12.2381;89376', 'Treviso;45.6722;12.2422;84954', 'Busto Arsizio;45.612;8.8518;83405', 'Como;45.8103;9.0861;83320', 'Sesto San Giovanni;45.5333;9.2333;81773', 'Varese;45.8167;8.8333;80544', 'Asti;44.9;8.2069;76211', 'Cinisello Balsamo;45.55;9.2167;75723', 'Rome;41.8931;12.4828;2872800', 'Naples;40.8333;14.25;966144', 'Palermo;38.1157;13.3613;668405', 'Florence;43.7714;11.2542;380948', 'Bari;41.1253;16.8667;323370', 'Catania;37.5027;15.0873;311584', 'Messina;38.1936;15.5542;234293', 'Taranto;40.4181;17.2408;198283', 'Prato;43.8808;11.0966;193325', 'Reggio di Calabria;38.1144;15.65;181447', 'Perugia;43.1121;12.3888;165683', 'Livorno;43.55;10.3167;158371', 'Cagliari;39.2167;9.1167;154106', 'Foggia;41.4584;15.5519;151372', 'Rimini;44.0594;12.5683;149403', 'Salerno;40.6806;14.7597;133970', 'Latina;41.4676;12.9037;126470', 'Giugliano in Campania;40.9319;14.1956;124361', 'Siracusa;37.0692;15.2875;121171', 'Pescara;42.4643;14.2142;119217', 'Forlì;44.2225;12.0408;117863', 'Sassari;40.7267;8.5592;116641', 'Terni;42.5667;12.65;111189', 'Ancona;43.6167;13.5167;100924', 'Andria;41.2317;16.3083;99857', 'Arezzo;43.4631;11.8781;99419', 'Cesena;44.1333;12.2333;96760', 'Lecce;40.352;18.1691;95441', 'Pesaro;43.9102;12.9133;94958', 'Barletta;41.3167;16.2833;94477', 'La Spezia;44.108;9.8289;93311', 'Pistoia;43.9333;10.9167;90195', 'Pisa;43.7167;10.4;90118', 'Catanzaro;38.91;16.5875;89718', 'Lucca;43.85;10.5167;89243', 'Brindisi;40.6383;17.9458;87141', 'Torre del Greco;40.7853;14.3953;85332', 'Marsala;37.7981;12.4342;82802', 'Grosseto;42.7722;11.1089;82036', 'Pozzuoli;40.8231;14.1222;81141', 'Fiumicino;41.7667;12.2333;79630', 'Casoria;40.9;14.3;77087', 'Caserta;41.0667;14.3333;75561']\n",
    "warehouses = ['Rome;41.8931;12.4828;2872800', 'Milan;45.4669;9.19;1366180', 'Naples;40.8333;14.25;966144', 'Turin;45.0667;7.7;870952', 'Palermo;38.1157;13.3613;668405', 'Genoa;44.4072;8.934;580097', 'Bologna;44.4939;11.3428;389261', 'Florence;43.7714;11.2542;380948', 'Bari;41.1253;16.8667;323370', 'Catania;37.5027;15.0873;311584', 'Venice;45.4397;12.3319;261321', 'Verona;45.4386;10.9928;257275']\n",
    "cst_as_is = import_data(customers_as_is, 'customer')\n",
    "cst_to_be = import_data(customers_to_be, 'customer')\n",
    "whs = import_data(whs_list, 'warehouse')\n"
   ]
  },
  {
   "cell_type": "code",
   "execution_count": null,
   "id": "6e6d20d3",
   "metadata": {},
   "outputs": [],
   "source": [
    "cst_as_is\n"
   ]
  },
  {
   "cell_type": "code",
   "execution_count": 64,
   "id": "38909991",
   "metadata": {
    "scrolled": false
   },
   "outputs": [
    {
     "data": {
      "image/png": "[encoded data removed]",
      "text/plain": [
       "<Figure size 1088x680 with 1 Axes>"
      ]
     },
     "metadata": {
      "needs_background": "light"
     },
     "output_type": "display_data"
    }
   ],
   "source": [
    "from projectwork_data import warehouses, customers_as_is, customers_to_be\n",
    "from data_structures import show_data\n",
    "from netopt import netopt\n",
    "plot_map(warehouses=warehouses,\n",
    "         customers=customers_as_is,\n",
    "         warehouse_markersize=6)\n",
    "dist = calculate_dm(warehouses=warehouses,\n",
    "                    customers=customers_to_be)"
   ]
  },
  {
   "cell_type": "code",
   "execution_count": 65,
   "id": "1a18ba77",
   "metadata": {},
   "outputs": [
    {
     "name": "stdout",
     "output_type": "stream",
     "text": [
      "|    |   Id | Identifier         | City               | State   | Zipcode   |   Latitude |   Longitude |   Capacity |   Fixed cost |\n",
      "|---:|-----:|:-------------------|:-------------------|:--------|:----------|-----------:|------------:|-----------:|-------------:|\n",
      "|  0 |    0 | Rome               | Rome               |         |           |    41.8931 |     12.4828 |      12000 |        10000 |\n",
      "|  1 |    1 | Milan              | Milan              |         |           |    45.4669 |      9.19   |      12000 |        10000 |\n",
      "|  2 |    2 | Naples             | Naples             |         |           |    40.8333 |     14.25   |      12000 |        10000 |\n",
      "|  3 |    3 | Turin              | Turin              |         |           |    45.0667 |      7.7    |      11000 |        10000 |\n",
      "|  4 |    4 | Palermo            | Palermo            |         |           |    38.1157 |     13.3613 |      10000 |        10000 |\n",
      "|  5 |    5 | Genoa              | Genoa              |         |           |    44.4072 |      8.934  |       6000 |         6000 |\n",
      "|  6 |    6 | Bologna            | Bologna            |         |           |    44.4939 |     11.3428 |       7000 |         6000 |\n",
      "|  7 |    7 | Florence           | Florence           |         |           |    43.7714 |     11.2542 |       7000 |         6000 |\n",
      "|  8 |    8 | Bari               | Bari               |         |           |    41.1253 |     16.8667 |       5000 |         6000 |\n",
      "|  9 |    9 | Catania            | Catania            |         |           |    37.5027 |     15.0873 |       4000 |         3000 |\n",
      "| 10 |   10 | Venice             | Venice             |         |           |    45.4397 |     12.3319 |       4000 |         3000 |\n",
      "| 11 |   11 | Verona             | Verona             |         |           |    45.4386 |     10.9928 |       4000 |         3000 |\n",
      "| 12 |   12 | Ancona             | Ancona             |         |           |    43.6167 |     13.5167 |       4000 |         3000 |\n",
      "| 13 |   13 | Andria             | Andria             |         |           |    41.2317 |     16.3083 |       2000 |         3000 |\n",
      "| 14 |   14 | Reggio di Calabria | Reggio di Calabria |         |           |    38.1144 |     15.65   |       2000 |         3000 |\n"
     ]
    }
   ],
   "source": [
    "show_data(warehouses)"
   ]
  },
  {
   "cell_type": "code",
   "execution_count": 78,
   "id": "d5f2e1c7",
   "metadata": {},
   "outputs": [
    {
     "name": "stdout",
     "output_type": "stream",
     "text": [
      "CHECK INPUTS...OK\n",
      "BUILD MODEL...OK\n",
      "SOLVE...OK\n",
      "Optimization Status  Optimal\n",
      "Total cost: 346718.0\n",
      "Cost splitting:\n",
      "- Transportation cost: 326718.0\n",
      "- Yearly fixed cost: 20000.0\n",
      "\n",
      "Open warehouses:\n",
      "ID:   0 City: Rome                 State:        Num. customers:  38  Outflow:      9433.0 units\n",
      "ID:   1 City: Milan                State:        Num. customers:  34  Outflow:      6974.0 units\n",
      "\n",
      "Total outflow: 16407.0 units\n",
      "% of demand in range     0 -   100: 33.6\n",
      "% of demand in range   100 -   400: 48.8\n",
      "% of demand in range   400 -   800: 17.6\n",
      "% of demand in range   800 -  1200: 0.0\n",
      "% of demand in range  1200 - 99999: 0.0\n",
      "Most distant customer is at 653.5097590224914\n",
      "Average customers distance (no weights): 250.25852923340628\n"
     ]
    },
    {
     "data": {
      "image/png": "[encoded data removed]",
      "text/plain": [
       "<Figure size 1088x680 with 1 Axes>"
      ]
     },
     "metadata": {
      "needs_background": "light"
     },
     "output_type": "display_data"
    },
    {
     "name": "stdout",
     "output_type": "stream",
     "text": [
      "{   'active_warehouses_id': {0, 1},\n",
      "    'active_warehouses_name': ['Rome', 'Milan'],\n",
      "    'avg_customer_distance': 250.25852923340628,\n",
      "    'avg_weighted_distance': 199.13330637729433,\n",
      "    'demand_perc_by_ranges': {   (0, 100): 0.33564941793137076,\n",
      "                                 (100, 400): 0.4882062534284147,\n",
      "                                 (400, 800): 0.17614432864021454,\n",
      "                                 (800, 1200): 0.0,\n",
      "                                 (1200, 99999): 0.0},\n",
      "    'most_distant_customer': 653.5097590224914,\n",
      "    'multi_sourced_customers': [],\n",
      "    'objective_value': 346718.0157732269}\n"
     ]
    }
   ],
   "source": [
    "results = netopt(num_warehouses=2,\n",
    "                 warehouses=warehouses,\n",
    "                 customers=customers_to_be,\n",
    "                 distance=dist,\n",
    "                 objective='mincost',\n",
    "                 distance_ranges=[0, 100, 400, 800, 1200],\n",
    "                 high_service_distance=None,\n",
    "                 avg_service_distance=None,\n",
    "                 max_service_distance=None,\n",
    "                 force_single_sourcing=True,\n",
    "                 force_uncapacitated=False,\n",
    "                 force_allocations=[],\n",
    "                 force_open=[],\n",
    "                 ignore_fixed_cost=False,\n",
    "                 plot=True,\n",
    "                 warehouse_markersize=5,\n",
    "                 warehouse_active_markersize=8,\n",
    "                 unit_transport_cost=0.1,\n",
    "                 hide_inactive=True)\n",
    "print_dict(results)"
   ]
  },
  {
   "cell_type": "code",
   "execution_count": null,
   "id": "3c224cfd",
   "metadata": {},
   "outputs": [],
   "source": [
    "set_fixed_cost(warehouses=warehouses, fixed_cost=10000000, w_id=6)"
   ]
  },
  {
   "cell_type": "code",
   "execution_count": null,
   "id": "e98ed48e",
   "metadata": {},
   "outputs": [],
   "source": [
    "show_data(warehouses)"
   ]
  },
  {
   "cell_type": "code",
   "execution_count": null,
   "id": "c3774168",
   "metadata": {
    "scrolled": false
   },
   "outputs": [],
   "source": [
    "customers_as_is"
   ]
  },
  {
   "cell_type": "code",
   "execution_count": null,
   "id": "7493baf5",
   "metadata": {},
   "outputs": [],
   "source": [
    "customers_to_be"
   ]
  },
  {
   "cell_type": "code",
   "execution_count": null,
   "id": "75df0ec5",
   "metadata": {},
   "outputs": [],
   "source": [
    "show_data(customers_to_be)"
   ]
  },
  {
   "cell_type": "code",
   "execution_count": 10,
   "id": "47feca2a",
   "metadata": {},
   "outputs": [
    {
     "data": {
      "text/plain": [
       "{0: Warehouse(name='Rome', city='Rome', state='', zipcode='', latitude=41.8931, longitude=12.4828, capacity=2873.0, fixed_cost=0.0),\n",
       " 1: Warehouse(name='Milan', city='Milan', state='', zipcode='', latitude=45.4669, longitude=9.19, capacity=1366.0, fixed_cost=0.0),\n",
       " 2: Warehouse(name='Naples', city='Naples', state='', zipcode='', latitude=40.8333, longitude=14.25, capacity=966.0, fixed_cost=0.0),\n",
       " 3: Warehouse(name='Turin', city='Turin', state='', zipcode='', latitude=45.0667, longitude=7.7, capacity=871.0, fixed_cost=0.0),\n",
       " 4: Warehouse(name='Palermo', city='Palermo', state='', zipcode='', latitude=38.1157, longitude=13.3613, capacity=668.0, fixed_cost=0.0),\n",
       " 5: Warehouse(name='Genoa', city='Genoa', state='', zipcode='', latitude=44.4072, longitude=8.934, capacity=580.0, fixed_cost=0.0),\n",
       " 6: Warehouse(name='Bologna', city='Bologna', state='', zipcode='', latitude=44.4939, longitude=11.3428, capacity=389.0, fixed_cost=0.0),\n",
       " 7: Warehouse(name='Florence', city='Florence', state='', zipcode='', latitude=43.7714, longitude=11.2542, capacity=381.0, fixed_cost=0.0),\n",
       " 8: Warehouse(name='Bari', city='Bari', state='', zipcode='', latitude=41.1253, longitude=16.8667, capacity=323.0, fixed_cost=0.0),\n",
       " 9: Warehouse(name='Catania', city='Catania', state='', zipcode='', latitude=37.5027, longitude=15.0873, capacity=312.0, fixed_cost=0.0),\n",
       " 10: Warehouse(name='Venice', city='Venice', state='', zipcode='', latitude=45.4397, longitude=12.3319, capacity=261.0, fixed_cost=0.0),\n",
       " 11: Warehouse(name='Verona', city='Verona', state='', zipcode='', latitude=45.4386, longitude=10.9928, capacity=257.0, fixed_cost=0.0),\n",
       " 12: Warehouse(name='Ancona', city='Ancona', state='', zipcode='', latitude=43.6167, longitude=13.5167, capacity=101.0, fixed_cost=0.0),\n",
       " 13: Warehouse(name='Andria', city='Andria', state='', zipcode='', latitude=41.2317, longitude=16.3083, capacity=100.0, fixed_cost=0.0),\n",
       " 14: Warehouse(name='Reggio di Calabria', city='Reggio di Calabria', state='', zipcode='', latitude=38.1144, longitude=15.65, capacity=181.0, fixed_cost=0.0)}"
      ]
     },
     "execution_count": 10,
     "metadata": {},
     "output_type": "execute_result"
    }
   ],
   "source": [
    "warehouses\n"
   ]
  },
  {
   "cell_type": "code",
   "execution_count": 24,
   "id": "deb8ae19",
   "metadata": {},
   "outputs": [
    {
     "data": {
      "text/html": [
       "<div>\n",
       "<style scoped>\n",
       "    .dataframe tbody tr th:only-of-type {\n",
       "        vertical-align: middle;\n",
       "    }\n",
       "\n",
       "    .dataframe tbody tr th {\n",
       "        vertical-align: top;\n",
       "    }\n",
       "\n",
       "    .dataframe thead th {\n",
       "        text-align: right;\n",
       "    }\n",
       "</style>\n",
       "<table border=\"1\" class=\"dataframe\">\n",
       "  <thead>\n",
       "    <tr style=\"text-align: right;\">\n",
       "      <th></th>\n",
       "      <th>Id</th>\n",
       "      <th>Identifier</th>\n",
       "      <th>City</th>\n",
       "      <th>Latitude</th>\n",
       "      <th>Longitude</th>\n",
       "      <th>Capacity</th>\n",
       "      <th>Fixed cost</th>\n",
       "    </tr>\n",
       "  </thead>\n",
       "  <tbody>\n",
       "    <tr>\n",
       "      <th>0</th>\n",
       "      <td>0</td>\n",
       "      <td>Rome</td>\n",
       "      <td>Rome</td>\n",
       "      <td>41.8931</td>\n",
       "      <td>12.4828</td>\n",
       "      <td>2873.0</td>\n",
       "      <td>0.0</td>\n",
       "    </tr>\n",
       "    <tr>\n",
       "      <th>1</th>\n",
       "      <td>1</td>\n",
       "      <td>Milan</td>\n",
       "      <td>Milan</td>\n",
       "      <td>45.4669</td>\n",
       "      <td>9.1900</td>\n",
       "      <td>1366.0</td>\n",
       "      <td>0.0</td>\n",
       "    </tr>\n",
       "    <tr>\n",
       "      <th>2</th>\n",
       "      <td>2</td>\n",
       "      <td>Naples</td>\n",
       "      <td>Naples</td>\n",
       "      <td>40.8333</td>\n",
       "      <td>14.2500</td>\n",
       "      <td>966.0</td>\n",
       "      <td>0.0</td>\n",
       "    </tr>\n",
       "    <tr>\n",
       "      <th>3</th>\n",
       "      <td>3</td>\n",
       "      <td>Turin</td>\n",
       "      <td>Turin</td>\n",
       "      <td>45.0667</td>\n",
       "      <td>7.7000</td>\n",
       "      <td>871.0</td>\n",
       "      <td>0.0</td>\n",
       "    </tr>\n",
       "    <tr>\n",
       "      <th>4</th>\n",
       "      <td>4</td>\n",
       "      <td>Palermo</td>\n",
       "      <td>Palermo</td>\n",
       "      <td>38.1157</td>\n",
       "      <td>13.3613</td>\n",
       "      <td>668.0</td>\n",
       "      <td>0.0</td>\n",
       "    </tr>\n",
       "    <tr>\n",
       "      <th>5</th>\n",
       "      <td>5</td>\n",
       "      <td>Genoa</td>\n",
       "      <td>Genoa</td>\n",
       "      <td>44.4072</td>\n",
       "      <td>8.9340</td>\n",
       "      <td>580.0</td>\n",
       "      <td>0.0</td>\n",
       "    </tr>\n",
       "    <tr>\n",
       "      <th>6</th>\n",
       "      <td>6</td>\n",
       "      <td>Bologna</td>\n",
       "      <td>Bologna</td>\n",
       "      <td>44.4939</td>\n",
       "      <td>11.3428</td>\n",
       "      <td>389.0</td>\n",
       "      <td>0.0</td>\n",
       "    </tr>\n",
       "    <tr>\n",
       "      <th>7</th>\n",
       "      <td>7</td>\n",
       "      <td>Florence</td>\n",
       "      <td>Florence</td>\n",
       "      <td>43.7714</td>\n",
       "      <td>11.2542</td>\n",
       "      <td>381.0</td>\n",
       "      <td>0.0</td>\n",
       "    </tr>\n",
       "    <tr>\n",
       "      <th>8</th>\n",
       "      <td>8</td>\n",
       "      <td>Bari</td>\n",
       "      <td>Bari</td>\n",
       "      <td>41.1253</td>\n",
       "      <td>16.8667</td>\n",
       "      <td>323.0</td>\n",
       "      <td>0.0</td>\n",
       "    </tr>\n",
       "    <tr>\n",
       "      <th>9</th>\n",
       "      <td>9</td>\n",
       "      <td>Catania</td>\n",
       "      <td>Catania</td>\n",
       "      <td>37.5027</td>\n",
       "      <td>15.0873</td>\n",
       "      <td>312.0</td>\n",
       "      <td>0.0</td>\n",
       "    </tr>\n",
       "    <tr>\n",
       "      <th>10</th>\n",
       "      <td>10</td>\n",
       "      <td>Venice</td>\n",
       "      <td>Venice</td>\n",
       "      <td>45.4397</td>\n",
       "      <td>12.3319</td>\n",
       "      <td>261.0</td>\n",
       "      <td>0.0</td>\n",
       "    </tr>\n",
       "    <tr>\n",
       "      <th>11</th>\n",
       "      <td>11</td>\n",
       "      <td>Verona</td>\n",
       "      <td>Verona</td>\n",
       "      <td>45.4386</td>\n",
       "      <td>10.9928</td>\n",
       "      <td>257.0</td>\n",
       "      <td>0.0</td>\n",
       "    </tr>\n",
       "    <tr>\n",
       "      <th>12</th>\n",
       "      <td>12</td>\n",
       "      <td>Ancona</td>\n",
       "      <td>Ancona</td>\n",
       "      <td>43.6167</td>\n",
       "      <td>13.5167</td>\n",
       "      <td>101.0</td>\n",
       "      <td>0.0</td>\n",
       "    </tr>\n",
       "    <tr>\n",
       "      <th>13</th>\n",
       "      <td>13</td>\n",
       "      <td>Andria</td>\n",
       "      <td>Andria</td>\n",
       "      <td>41.2317</td>\n",
       "      <td>16.3083</td>\n",
       "      <td>100.0</td>\n",
       "      <td>0.0</td>\n",
       "    </tr>\n",
       "    <tr>\n",
       "      <th>14</th>\n",
       "      <td>14</td>\n",
       "      <td>Reggio di Calabria</td>\n",
       "      <td>Reggio di Calabria</td>\n",
       "      <td>38.1144</td>\n",
       "      <td>15.6500</td>\n",
       "      <td>181.0</td>\n",
       "      <td>0.0</td>\n",
       "    </tr>\n",
       "  </tbody>\n",
       "</table>\n",
       "</div>"
      ],
      "text/plain": [
       "    Id          Identifier                City  Latitude  Longitude  Capacity  \\\n",
       "0    0                Rome                Rome   41.8931    12.4828    2873.0   \n",
       "1    1               Milan               Milan   45.4669     9.1900    1366.0   \n",
       "2    2              Naples              Naples   40.8333    14.2500     966.0   \n",
       "3    3               Turin               Turin   45.0667     7.7000     871.0   \n",
       "4    4             Palermo             Palermo   38.1157    13.3613     668.0   \n",
       "5    5               Genoa               Genoa   44.4072     8.9340     580.0   \n",
       "6    6             Bologna             Bologna   44.4939    11.3428     389.0   \n",
       "7    7            Florence            Florence   43.7714    11.2542     381.0   \n",
       "8    8                Bari                Bari   41.1253    16.8667     323.0   \n",
       "9    9             Catania             Catania   37.5027    15.0873     312.0   \n",
       "10  10              Venice              Venice   45.4397    12.3319     261.0   \n",
       "11  11              Verona              Verona   45.4386    10.9928     257.0   \n",
       "12  12              Ancona              Ancona   43.6167    13.5167     101.0   \n",
       "13  13              Andria              Andria   41.2317    16.3083     100.0   \n",
       "14  14  Reggio di Calabria  Reggio di Calabria   38.1144    15.6500     181.0   \n",
       "\n",
       "    Fixed cost  \n",
       "0          0.0  \n",
       "1          0.0  \n",
       "2          0.0  \n",
       "3          0.0  \n",
       "4          0.0  \n",
       "5          0.0  \n",
       "6          0.0  \n",
       "7          0.0  \n",
       "8          0.0  \n",
       "9          0.0  \n",
       "10         0.0  \n",
       "11         0.0  \n",
       "12         0.0  \n",
       "13         0.0  \n",
       "14         0.0  "
      ]
     },
     "execution_count": 24,
     "metadata": {},
     "output_type": "execute_result"
    }
   ],
   "source": [
    "import pandas as pd\n",
    "df = []\n",
    "for k, v in warehouses.items():\n",
    "    df.append([k] + list(v))\n",
    "df = pd.DataFrame(df, columns=['Id', 'Identifier', 'City', 'State', 'Zipcode', 'Latitude', 'Longitude', 'Capacity', 'Fixed cost'])\n",
    "df.drop(['State', 'Zipcode'], axis=1, inplace=True)\n",
    "df.to_excel('CandidateLocations.xlsx')\n",
    "df"
   ]
  },
  {
   "cell_type": "code",
   "execution_count": null,
   "id": "c5e5e226",
   "metadata": {},
   "outputs": [],
   "source": []
  }
 ],
 "metadata": {
  "kernelspec": {
   "display_name": "Python 3 (ipykernel)",
   "language": "python",
   "name": "python3"
  },
  "language_info": {
   "codemirror_mode": {
    "name": "ipython",
    "version": 3
   },
   "file_extension": ".py",
   "mimetype": "text/x-python",
   "name": "python",
   "nbconvert_exporter": "python",
   "pygments_lexer": "ipython3",
   "version": "3.8.10"
  }
 },
 "nbformat": 4,
 "nbformat_minor": 5
}
