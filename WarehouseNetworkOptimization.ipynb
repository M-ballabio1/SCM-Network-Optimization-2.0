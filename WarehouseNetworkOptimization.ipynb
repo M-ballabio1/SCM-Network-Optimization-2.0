{
 "cells": [
  {
   "cell_type": "code",
   "execution_count": null,
   "id": "431b0b16",
   "metadata": {},
   "outputs": [],
   "source": [
    "%load_ext autoreload\n",
    "%autoreload 2"
   ]
  },
  {
   "cell_type": "code",
   "execution_count": null,
   "id": "3ad5b50d",
   "metadata": {},
   "outputs": [],
   "source": [
    "# Import the data of the scenario 1 and the optimization function (netopt)\n",
    "# Press shift + enter in each cell to run the commands, or click on Run in the command bar\n",
    "\n",
    "from netopt import netopt, print_dict, plot\n",
    "from scenario_1 import warehouses, customers, distance"
   ]
  },
  {
   "cell_type": "code",
   "execution_count": null,
   "id": "52f58b0a",
   "metadata": {},
   "outputs": [],
   "source": [
    "# Plot the data\n",
    "\n",
    "plot(customers=customers, warehouses=warehouses)"
   ]
  },
  {
   "cell_type": "code",
   "execution_count": null,
   "id": "46748cb2",
   "metadata": {},
   "outputs": [],
   "source": [
    "# Get the optmimal location of num_warehouses warehouses.\n",
    "# You can change the value of parameter num_warehouses to test different scenario.\n",
    "# The parameter warehouses, customers, and distance are loaded in the previous cell.\n",
    "# You must define the objective: the objective mindistance minimizes the average weighted distance.\n",
    "# By setting the parameter plot to True, the function returns a simplyfied picture of the solution along with a summary of the performance. \n",
    "# If you don't want the picture, set plot to False.\n",
    "# Outflow in the results represents the quantity exiting from each warehouse.\n",
    "\n",
    "results = netopt(num_warehouses=3,\n",
    "                 objective='mindistance',\n",
    "                 warehouses=warehouses,\n",
    "                 customers=customers,\n",
    "                 distance=distance,\n",
    "                 plot=True)"
   ]
  },
  {
   "cell_type": "code",
   "execution_count": null,
   "id": "ef02058b",
   "metadata": {},
   "outputs": [],
   "source": [
    "# By adding the parameter distance_ranges the functions returns the % of the demand\n",
    "# within the passed distance ranges. For example, if distance_ranges = [0, 100, 200]\n",
    "# the functions return the percentage of demand in the ranges [0, 100], (100, 200], (200, 99999]\n",
    "# where 99999 is used to represent a very long distance (i.e. infinite distance).\n",
    "# By changing the parameter num_warehouses and distance_ranges you can test different scenarios.\n",
    "# The parameter distance_ranges must be a list of increasing numbers. If you do not pass 0 as the first value\n",
    "# it will be automatically added\n",
    "\n",
    "results = netopt(num_warehouses=3,\n",
    "                 objective='mindistance',\n",
    "                 warehouses=warehouses,\n",
    "                 customers=customers,\n",
    "                 distance=distance,\n",
    "                 distance_ranges=[0, 100, 400, 800, 3200],\n",
    "                 plot=True)"
   ]
  },
  {
   "cell_type": "code",
   "execution_count": null,
   "id": "2f243e93",
   "metadata": {},
   "outputs": [],
   "source": [
    "# The results variable contains a summary of the optimization report\n",
    "\n",
    "print(results)"
   ]
  },
  {
   "cell_type": "code",
   "execution_count": null,
   "id": "d55c593e",
   "metadata": {},
   "outputs": [],
   "source": [
    "# For a slightly better visualization of the results use print_dict as follows\n",
    "\n",
    "print_dict(results)"
   ]
  },
  {
   "cell_type": "code",
   "execution_count": null,
   "id": "b4fe9d3d",
   "metadata": {},
   "outputs": [],
   "source": [
    "# It is also possible to force warehouses to be open (for example, to force using the current warehouse)\n",
    "# of closed (to avoid the selection of some candidate).\n",
    "# The warehouses are references through their id, and must be passed as list [] (even for a single value, that is\n",
    "# to force closed the warehouse with id 1 you should pass forced_closed=[1])\n",
    "\n",
    "\n",
    "results = netopt(num_warehouses=3,\n",
    "                 objective='mindistance',\n",
    "                 warehouses=warehouses,\n",
    "                 customers=customers,\n",
    "                 distance=distance,\n",
    "                 forced_open=[1],\n",
    "                 forced_closed=[8, 3],\n",
    "                 distance_ranges=[0, 100, 400, 800, 3200],\n",
    "                 plot=True)"
   ]
  },
  {
   "cell_type": "code",
   "execution_count": null,
   "id": "da210675",
   "metadata": {},
   "outputs": [],
   "source": [
    "# The id of the warehouses is the value on the left of the colon in the warehouses python variable\n",
    "\n",
    "print_dict(warehouses)"
   ]
  },
  {
   "cell_type": "code",
   "execution_count": null,
   "id": "92d0337a",
   "metadata": {},
   "outputs": [],
   "source": [
    "# The objective maxcover maximises the % of demand within a distance specified\n",
    "# by the high_service_distance parameter. If you set the objective to maxcover and don't specify the\n",
    "# high_service_distance parameter you'll get an error.\n",
    "\n",
    "results = netopt(num_warehouses=3,\n",
    "                 objective='maxcover',\n",
    "                 warehouses=warehouses,\n",
    "                 customers=customers,\n",
    "                 distance=distance,\n",
    "                 high_service_distance=800,\n",
    "                 distance_ranges=[0, 100, 400, 800, 3200],\n",
    "                 forced_open=[],\n",
    "                 forced_closed=[],\n",
    "                 plot=True)\n",
    "\n",
    "print_dict(results)\n"
   ]
  },
  {
   "cell_type": "code",
   "execution_count": null,
   "id": "b4668bd3",
   "metadata": {},
   "outputs": [],
   "source": [
    "# To limit the effect of random allocations of customers not contributing to the maxcover objective\n",
    "# you can set the avg_service_distance in order to limit the avg weighted distance.\n",
    "# Be careful: if avg_service_distance is too tight, it may results in a worse % of covered demand\n",
    "\n",
    "results = netopt(num_warehouses=3,\n",
    "                 objective='maxcover',\n",
    "                 warehouses=warehouses,\n",
    "                 customers=customers,\n",
    "                 distance=distance,\n",
    "                 high_service_distance=800,\n",
    "                 avg_service_distance=500,\n",
    "                 distance_ranges=[0, 100, 400, 800, 3200],\n",
    "                 forced_open=[],\n",
    "                 forced_closed=[],\n",
    "                 plot=True)\n",
    "\n",
    "print_dict(results)\n"
   ]
  },
  {
   "cell_type": "code",
   "execution_count": null,
   "id": "a275145e",
   "metadata": {},
   "outputs": [],
   "source": [
    "# To limit the distance of the most distant customer, you can use the paramater max_service_distance.\n",
    "# Be careful: if max_service_distance is too tight, the model may become infeasible.\n",
    "\n",
    "results = netopt(num_warehouses=3,\n",
    "                 objective='maxcover',\n",
    "                 warehouses=warehouses,\n",
    "                 customers=customers,\n",
    "                 distance=distance,\n",
    "                 high_service_distance=800,\n",
    "                 avg_service_distance=500,\n",
    "                 max_service_distance=500,\n",
    "                 distance_ranges=[0, 100, 400, 800, 3200],\n",
    "                 forced_open=[],\n",
    "                 forced_closed=[],\n",
    "                 plot=True)\n",
    "\n",
    "print_dict(results)"
   ]
  },
  {
   "cell_type": "code",
   "execution_count": null,
   "id": "fca6fa5a",
   "metadata": {},
   "outputs": [],
   "source": [
    "# Feel free to play with the parameters. If you find any error, please report it to me."
   ]
  },
  {
   "cell_type": "code",
   "execution_count": null,
   "id": "f643813d",
   "metadata": {},
   "outputs": [],
   "source": [
    "# If you know a little bit of python (or you are willing to learn a little bit), \n",
    "# you can easily automate experiments.\n",
    "# For example, compute the average weighted distance for several values of p\n",
    "\n",
    "for p in [1, 2, 3, 4, 5]:\n",
    "    results = netopt(num_warehouses=p,\n",
    "                 objective='mindistance',\n",
    "                 warehouses=warehouses,\n",
    "                 customers=customers,\n",
    "                 distance=distance,\n",
    "                 forced_open=[],\n",
    "                 forced_closed=[],\n",
    "                 plot=False)\n",
    "    print()\n",
    "    print(f\"*** AVG WEIGHTED DISTANCE FOR p={p}: {results['avg_weighted_distance']} ***\")\n",
    "    print()"
   ]
  },
  {
   "cell_type": "code",
   "execution_count": null,
   "id": "e39067dd",
   "metadata": {},
   "outputs": [],
   "source": [
    "# If can collect data from different experiments and the plot it\n",
    "\n",
    "data = {}\n",
    "for p in [1, 2, 3, 4, 5]:\n",
    "    results = netopt(num_warehouses=p,\n",
    "                 objective='mindistance',\n",
    "                 warehouses=warehouses,\n",
    "                 customers=customers,\n",
    "                 distance=distance,\n",
    "                 forced_open=[],\n",
    "                 forced_closed=[],\n",
    "                 plot=False)\n",
    "    data[p] = results['avg_weighted_distance']\n",
    "    \n",
    "# Plot the results\n",
    "import matplotlib.pyplot as plt\n",
    "plt.plot(data.keys(), data.values())"
   ]
  },
  {
   "cell_type": "code",
   "execution_count": null,
   "id": "7784c620",
   "metadata": {},
   "outputs": [],
   "source": []
  }
 ],
 "metadata": {
  "kernelspec": {
   "display_name": "Python 3 (ipykernel)",
   "language": "python",
   "name": "python3"
  },
  "language_info": {
   "codemirror_mode": {
    "name": "ipython",
    "version": 3
   },
   "file_extension": ".py",
   "mimetype": "text/x-python",
   "name": "python",
   "nbconvert_exporter": "python",
   "pygments_lexer": "ipython3",
   "version": "3.8.10"
  }
 },
 "nbformat": 4,
 "nbformat_minor": 5
}
