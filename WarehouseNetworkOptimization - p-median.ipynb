{
 "cells": [
  {
   "cell_type": "code",
   "execution_count": null,
   "id": "431b0b16",
   "metadata": {},
   "outputs": [],
   "source": [
    "%load_ext autoreload\n",
    "%autoreload 2"
   ]
  },
  {
   "cell_type": "code",
   "execution_count": null,
   "id": "3ad5b50d",
   "metadata": {},
   "outputs": [],
   "source": [
    "# Import the data of the scenario 1 and the optimization function (optimal_location)\n",
    "# Press shift + enter in each cell to run the commands\n",
    "\n",
    "from network_optimization import optimal_location, print_dict, plot\n",
    "from scenario_1 import warehouses, customers, distance"
   ]
  },
  {
   "cell_type": "code",
   "execution_count": null,
   "id": "52f58b0a",
   "metadata": {},
   "outputs": [],
   "source": [
    "plot(customers=customers, warehouses=warehouses)"
   ]
  },
  {
   "cell_type": "code",
   "execution_count": null,
   "id": "46748cb2",
   "metadata": {},
   "outputs": [],
   "source": [
    "# Get the optmimal location of num_warehouses warehouses\n",
    "# You can change the value of parameter num_warehouses to test different scenario\n",
    "# The parameter warehouses, customers, customer_demands and distance are loaded in the previous cell\n",
    "# By setting the parameter plot to True, the function returns a simplyfied picture of the solution along with a summary of the performance. \n",
    "# If you don't want the picture, set plot to False.\n",
    "# Outflow in the results represents the quantity exiting from each warehouse.\n",
    "\n",
    "results = optimal_location(num_warehouses=3,\n",
    "                           warehouses=warehouses,\n",
    "                           customers=customers,\n",
    "                           distance=distance,\n",
    "                           plot=True)"
   ]
  },
  {
   "cell_type": "code",
   "execution_count": null,
   "id": "ef02058b",
   "metadata": {},
   "outputs": [],
   "source": [
    "# By adding the parameter distance_ranges the functions returns the % of the demand\n",
    "# within the passed distance ranges. For example, if distance_ranges = [0, 100, 200]\n",
    "# the functions return the percentage of demand in the ranges [0, 100], (100, 200], (200, 99999]\n",
    "# where 99999 is used to represent a very long distance (i.e. infinite distance).\n",
    "# By changing the parameter num_warehouses and distance_ranges you can test different scenarios.\n",
    "# The parameter distance_ranges must be a list of increasing numbers. If you do not pass 0 as the first value\n",
    "# it will be automatically added\n",
    "\n",
    "results = optimal_location(num_warehouses=3,\n",
    "                           warehouses=warehouses,\n",
    "                           customers=customers,\n",
    "                           distance=distance,\n",
    "                           distance_ranges=[0, 100, 400, 800, 3200],\n",
    "                           plot=True)"
   ]
  },
  {
   "cell_type": "code",
   "execution_count": null,
   "id": "2f243e93",
   "metadata": {},
   "outputs": [],
   "source": [
    "# The results variable contains a summary of the optimization report\n",
    "\n",
    "print(results)"
   ]
  },
  {
   "cell_type": "code",
   "execution_count": null,
   "id": "d55c593e",
   "metadata": {},
   "outputs": [],
   "source": [
    "# For a slightly better visualization of the results use print_dict as follows\n",
    "\n",
    "print_dict(results)"
   ]
  },
  {
   "cell_type": "code",
   "execution_count": null,
   "id": "b4fe9d3d",
   "metadata": {},
   "outputs": [],
   "source": [
    "# It is also possible to force warehouses to be open (for example, to force using the current warehouse)\n",
    "# of closed (to avoid the selection of some candidate).\n",
    "# The warehouses are references through their id, and must be passed as list [] (even for a single value, that is\n",
    "# to force closed the warehouse with id 1 you should pass forced_closed=[1])\n",
    "\n",
    "\n",
    "results = optimal_location(num_warehouses=6,\n",
    "                           warehouses=warehouses,\n",
    "                           customers=customers,\n",
    "                           distance=distance,\n",
    "                           forced_open=[1],\n",
    "                           forced_closed=[8, 3],\n",
    "                           plot=True)"
   ]
  },
  {
   "cell_type": "code",
   "execution_count": null,
   "id": "da210675",
   "metadata": {},
   "outputs": [],
   "source": [
    "# The id of the warehouses if the value on the left of the colon in the warehouses python variable\n",
    "\n",
    "print_dict(warehouses)"
   ]
  },
  {
   "cell_type": "code",
   "execution_count": null,
   "id": "92d0337a",
   "metadata": {},
   "outputs": [],
   "source": []
  }
 ],
 "metadata": {
  "kernelspec": {
   "display_name": "Python 3 (ipykernel)",
   "language": "python",
   "name": "python3"
  },
  "language_info": {
   "codemirror_mode": {
    "name": "ipython",
    "version": 3
   },
   "file_extension": ".py",
   "mimetype": "text/x-python",
   "name": "python",
   "nbconvert_exporter": "python",
   "pygments_lexer": "ipython3",
   "version": "3.8.10"
  }
 },
 "nbformat": 4,
 "nbformat_minor": 5
}
