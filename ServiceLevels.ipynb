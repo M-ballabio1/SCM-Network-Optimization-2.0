{
 "cells": [
  {
   "cell_type": "code",
   "execution_count": null,
   "id": "a8f24771",
   "metadata": {},
   "outputs": [],
   "source": [
    "%load_ext autoreload\n",
    "%autoreload 2"
   ]
  },
  {
   "cell_type": "code",
   "execution_count": null,
   "id": "c10b7ab0",
   "metadata": {},
   "outputs": [],
   "source": [
    "from network_optimization import optimal_location, optimal_location_service_level, print_dict, plot\n",
    "from scenario_1 import warehouses, customers, distance"
   ]
  },
  {
   "cell_type": "code",
   "execution_count": null,
   "id": "49738ca6",
   "metadata": {},
   "outputs": [],
   "source": [
    "plot(customers=customers, warehouses=warehouses)"
   ]
  },
  {
   "cell_type": "code",
   "execution_count": null,
   "id": "8e9639f2",
   "metadata": {},
   "outputs": [],
   "source": [
    "optimal_location(num_warehouses=1,\n",
    "                 warehouses=warehouses,\n",
    "                 customers=customers,\n",
    "                 distance=distance,\n",
    "                 plot=True)"
   ]
  },
  {
   "cell_type": "code",
   "execution_count": null,
   "id": "cff68fab",
   "metadata": {},
   "outputs": [],
   "source": [
    "results=optimal_location(num_warehouses=3,\n",
    "                 warehouses=warehouses,\n",
    "                 customers=customers,\n",
    "                 distance=distance,\n",
    "                 distance_ranges=[0, 100, 400, 800, 1200],\n",
    "                 plot=True)\n",
    "print_dict(results)"
   ]
  },
  {
   "cell_type": "code",
   "execution_count": null,
   "id": "6b4fd75a",
   "metadata": {},
   "outputs": [],
   "source": [
    "results = optimal_location_service_level(num_warehouses=3,\n",
    "                                         warehouses=warehouses,\n",
    "                                         customers=customers,\n",
    "                                         distance=distance,\n",
    "                                         distance_ranges=[0, 100, 400, 800, 1200],\n",
    "                                         high_service_distance=800,\n",
    "                                         avg_service_distance=None,\n",
    "                                         max_service_distance=None,\n",
    "                                         plot=True)\n",
    "print_dict(results)"
   ]
  },
  {
   "cell_type": "code",
   "execution_count": null,
   "id": "d9bb227e",
   "metadata": {},
   "outputs": [],
   "source": [
    "res = {}\n",
    "for avg_dist in range(800, 300, -50):\n",
    "    r = optimal_location_service_level(num_warehouses=3,\n",
    "                                         warehouses=warehouses,\n",
    "                                         customers=customers,\n",
    "                                         distance=distance,\n",
    "                                         high_service_distance=800,\n",
    "                                         avg_service_distance=avg_dist,\n",
    "                                         max_service_distance=None,\n",
    "                                         plot=False)\n",
    "    res[avg_dist] = r['objective_value']\n",
    "\n",
    "print_dict(res)\n"
   ]
  },
  {
   "cell_type": "code",
   "execution_count": null,
   "id": "caf056cf",
   "metadata": {},
   "outputs": [],
   "source": []
  },
  {
   "cell_type": "code",
   "execution_count": null,
   "id": "04f32249",
   "metadata": {},
   "outputs": [],
   "source": []
  }
 ],
 "metadata": {
  "kernelspec": {
   "display_name": "Python 3 (ipykernel)",
   "language": "python",
   "name": "python3"
  },
  "language_info": {
   "codemirror_mode": {
    "name": "ipython",
    "version": 3
   },
   "file_extension": ".py",
   "mimetype": "text/x-python",
   "name": "python",
   "nbconvert_exporter": "python",
   "pygments_lexer": "ipython3",
   "version": "3.8.10"
  }
 },
 "nbformat": 4,
 "nbformat_minor": 5
}
